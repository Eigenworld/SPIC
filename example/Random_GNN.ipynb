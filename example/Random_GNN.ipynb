{
 "cells": [
  {
   "cell_type": "code",
   "execution_count": 1,
   "metadata": {
    "colab": {
     "base_uri": "https://localhost:8080/",
     "height": 618
    },
    "colab_type": "code",
    "executionInfo": {
     "elapsed": 5452,
     "status": "ok",
     "timestamp": 1584514692728,
     "user": {
      "displayName": "Alexy Robert",
      "photoUrl": "https://lh3.googleusercontent.com/a-/AOh14Ggz_PITpCVZkOGCc-PYV93u9s6v6n1BoAux_QBT=s64",
      "userId": "05809751795814209528"
     },
     "user_tz": -480
    },
    "id": "bYOO02jW5OgL",
    "outputId": "45e687be-a953-4f04-d2ee-00343dd7433b"
   },
   "outputs": [
    {
     "name": "stdout",
     "output_type": "stream",
     "text": [
      "Requirement already satisfied: torch_geometric in /usr/local/lib/python3.6/dist-packages (1.4.3)\n",
      "Requirement already satisfied: requests in /usr/local/lib/python3.6/dist-packages (from torch_geometric) (2.21.0)\n",
      "Requirement already satisfied: h5py in /usr/local/lib/python3.6/dist-packages (from torch_geometric) (2.8.0)\n",
      "Requirement already satisfied: pandas in /usr/local/lib/python3.6/dist-packages (from torch_geometric) (0.25.3)\n",
      "Requirement already satisfied: torch in /usr/local/lib/python3.6/dist-packages (from torch_geometric) (1.4.0)\n",
      "Requirement already satisfied: numba in /usr/local/lib/python3.6/dist-packages (from torch_geometric) (0.47.0)\n",
      "Requirement already satisfied: rdflib in /usr/local/lib/python3.6/dist-packages (from torch_geometric) (4.2.2)\n",
      "Requirement already satisfied: scikit-image in /usr/local/lib/python3.6/dist-packages (from torch_geometric) (0.16.2)\n",
      "Requirement already satisfied: scipy in /usr/local/lib/python3.6/dist-packages (from torch_geometric) (1.4.1)\n",
      "Requirement already satisfied: numpy in /usr/local/lib/python3.6/dist-packages (from torch_geometric) (1.18.1)\n",
      "Requirement already satisfied: networkx in /usr/local/lib/python3.6/dist-packages (from torch_geometric) (2.4)\n",
      "Requirement already satisfied: scikit-learn in /usr/local/lib/python3.6/dist-packages (from torch_geometric) (0.22.2.post1)\n",
      "Requirement already satisfied: plyfile in /usr/local/lib/python3.6/dist-packages (from torch_geometric) (0.7.1)\n",
      "Requirement already satisfied: googledrivedownloader in /usr/local/lib/python3.6/dist-packages (from torch_geometric) (0.4)\n",
      "Requirement already satisfied: idna<2.9,>=2.5 in /usr/local/lib/python3.6/dist-packages (from requests->torch_geometric) (2.8)\n",
      "Requirement already satisfied: urllib3<1.25,>=1.21.1 in /usr/local/lib/python3.6/dist-packages (from requests->torch_geometric) (1.24.3)\n",
      "Requirement already satisfied: certifi>=2017.4.17 in /usr/local/lib/python3.6/dist-packages (from requests->torch_geometric) (2019.11.28)\n",
      "Requirement already satisfied: chardet<3.1.0,>=3.0.2 in /usr/local/lib/python3.6/dist-packages (from requests->torch_geometric) (3.0.4)\n",
      "Requirement already satisfied: six in /usr/local/lib/python3.6/dist-packages (from h5py->torch_geometric) (1.12.0)\n",
      "Requirement already satisfied: pytz>=2017.2 in /usr/local/lib/python3.6/dist-packages (from pandas->torch_geometric) (2018.9)\n",
      "Requirement already satisfied: python-dateutil>=2.6.1 in /usr/local/lib/python3.6/dist-packages (from pandas->torch_geometric) (2.8.1)\n",
      "Requirement already satisfied: setuptools in /usr/local/lib/python3.6/dist-packages (from numba->torch_geometric) (45.2.0)\n",
      "Requirement already satisfied: llvmlite>=0.31.0dev0 in /usr/local/lib/python3.6/dist-packages (from numba->torch_geometric) (0.31.0)\n",
      "Requirement already satisfied: isodate in /usr/local/lib/python3.6/dist-packages (from rdflib->torch_geometric) (0.6.0)\n",
      "Requirement already satisfied: pyparsing in /usr/local/lib/python3.6/dist-packages (from rdflib->torch_geometric) (2.4.6)\n",
      "Requirement already satisfied: matplotlib!=3.0.0,>=2.0.0 in /usr/local/lib/python3.6/dist-packages (from scikit-image->torch_geometric) (3.2.0)\n",
      "Requirement already satisfied: pillow>=4.3.0 in /usr/local/lib/python3.6/dist-packages (from scikit-image->torch_geometric) (7.0.0)\n",
      "Requirement already satisfied: imageio>=2.3.0 in /usr/local/lib/python3.6/dist-packages (from scikit-image->torch_geometric) (2.4.1)\n",
      "Requirement already satisfied: PyWavelets>=0.4.0 in /usr/local/lib/python3.6/dist-packages (from scikit-image->torch_geometric) (1.1.1)\n",
      "Requirement already satisfied: decorator>=4.3.0 in /usr/local/lib/python3.6/dist-packages (from networkx->torch_geometric) (4.4.2)\n",
      "Requirement already satisfied: joblib>=0.11 in /usr/local/lib/python3.6/dist-packages (from scikit-learn->torch_geometric) (0.14.1)\n",
      "Requirement already satisfied: cycler>=0.10 in /usr/local/lib/python3.6/dist-packages (from matplotlib!=3.0.0,>=2.0.0->scikit-image->torch_geometric) (0.10.0)\n",
      "Requirement already satisfied: kiwisolver>=1.0.1 in /usr/local/lib/python3.6/dist-packages (from matplotlib!=3.0.0,>=2.0.0->scikit-image->torch_geometric) (1.1.0)\n"
     ]
    }
   ],
   "source": [
    "!pip install torch_geometric"
   ]
  },
  {
   "cell_type": "code",
   "execution_count": 2,
   "metadata": {
    "colab": {
     "base_uri": "https://localhost:8080/",
     "height": 301
    },
    "colab_type": "code",
    "executionInfo": {
     "elapsed": 12680,
     "status": "ok",
     "timestamp": 1584514699984,
     "user": {
      "displayName": "Alexy Robert",
      "photoUrl": "https://lh3.googleusercontent.com/a-/AOh14Ggz_PITpCVZkOGCc-PYV93u9s6v6n1BoAux_QBT=s64",
      "userId": "05809751795814209528"
     },
     "user_tz": -480
    },
    "id": "hDOdaUun5Szu",
    "outputId": "b3e80312-3101-41ac-c238-bb10659e4007"
   },
   "outputs": [
    {
     "name": "stdout",
     "output_type": "stream",
     "text": [
      "Looking in links: https://s3.eu-central-1.amazonaws.com/pytorch-geometric.com/whl/torch-1.4.0.html\n",
      "Collecting torch-scatter==latest+cu101\n",
      "  Using cached https://s3.eu-central-1.amazonaws.com/pytorch-geometric.com/whl/torch-1.4.0/torch_scatter-latest%2Bcu101-cp36-cp36m-linux_x86_64.whl\n",
      "Collecting torch-sparse==latest+cu101\n",
      "  Using cached https://s3.eu-central-1.amazonaws.com/pytorch-geometric.com/whl/torch-1.4.0/torch_sparse-latest%2Bcu101-cp36-cp36m-linux_x86_64.whl\n",
      "Requirement already satisfied: scipy in /usr/local/lib/python3.6/dist-packages (from torch-sparse==latest+cu101) (1.4.1)\n",
      "Requirement already satisfied: numpy>=1.13.3 in /usr/local/lib/python3.6/dist-packages (from scipy->torch-sparse==latest+cu101) (1.18.1)\n",
      "Installing collected packages: torch-scatter, torch-sparse\n",
      "  Found existing installation: torch-scatter 2.0.4\n",
      "    Uninstalling torch-scatter-2.0.4:\n",
      "      Successfully uninstalled torch-scatter-2.0.4\n",
      "  Found existing installation: torch-sparse 0.6.0\n",
      "    Uninstalling torch-sparse-0.6.0:\n",
      "      Successfully uninstalled torch-sparse-0.6.0\n",
      "Successfully installed torch-scatter-2.0.4 torch-sparse-0.6.0\n"
     ]
    }
   ],
   "source": [
    "!pip install torch-scatter==latest+cu101 torch-sparse==latest+cu101 -f https://s3.eu-central-1.amazonaws.com/pytorch-geometric.com/whl/torch-1.4.0.html"
   ]
  },
  {
   "cell_type": "code",
   "execution_count": 0,
   "metadata": {
    "colab": {},
    "colab_type": "code",
    "id": "BWQ8dZvo5S16"
   },
   "outputs": [],
   "source": [
    "import sys\n",
    "sys.path.insert(0, '/content/drive/My Drive')"
   ]
  },
  {
   "cell_type": "code",
   "execution_count": 0,
   "metadata": {
    "colab": {},
    "colab_type": "code",
    "id": "qaak_nQr5S3y"
   },
   "outputs": [],
   "source": [
    "import torch\n",
    "import numpy as np\n",
    "import networkx as nx\n",
    "import torch.nn as nn\n",
    "import time\n",
    "import torch.nn.functional as F"
   ]
  },
  {
   "cell_type": "code",
   "execution_count": 0,
   "metadata": {
    "colab": {},
    "colab_type": "code",
    "id": "khCTrjkY5S5e"
   },
   "outputs": [],
   "source": [
    "from utils import EarlyStopping"
   ]
  },
  {
   "cell_type": "code",
   "execution_count": 0,
   "metadata": {
    "colab": {},
    "colab_type": "code",
    "id": "76JvIGgR5S7h"
   },
   "outputs": [],
   "source": [
    "from torch_geometric.datasets import Planetoid"
   ]
  },
  {
   "cell_type": "code",
   "execution_count": 0,
   "metadata": {
    "colab": {},
    "colab_type": "code",
    "id": "t3Y0PZ3Q5S9m"
   },
   "outputs": [],
   "source": []
  },
  {
   "cell_type": "code",
   "execution_count": 0,
   "metadata": {
    "colab": {},
    "colab_type": "code",
    "id": "kSOp2g_L5S_-"
   },
   "outputs": [],
   "source": [
    "Cora = Planetoid(root='/content/drive/My Drive/', name='Cora')\n",
    "cora = Cora[0]"
   ]
  },
  {
   "cell_type": "code",
   "execution_count": 0,
   "metadata": {
    "colab": {},
    "colab_type": "code",
    "id": "9ts6wD8Y5TCL"
   },
   "outputs": [],
   "source": [
    "C_S = Planetoid(root='/content/drive/My Drive/', name='CiteSeer')\n",
    "cite_seer = C_S[0]"
   ]
  },
  {
   "cell_type": "code",
   "execution_count": 0,
   "metadata": {
    "colab": {},
    "colab_type": "code",
    "id": "JjHyrIII5TEP"
   },
   "outputs": [],
   "source": [
    "PM = Planetoid(root='/content/drive/My Drive/', name='PubMed')\n",
    "pub_med = PM[0]"
   ]
  },
  {
   "cell_type": "code",
   "execution_count": 0,
   "metadata": {
    "colab": {},
    "colab_type": "code",
    "id": "5E8iJeeF5TGf"
   },
   "outputs": [],
   "source": [
    "data = pub_med\n",
    "num_features = data.num_features\n",
    "num_classes = len(set(data.y.numpy()))"
   ]
  },
  {
   "cell_type": "code",
   "execution_count": 0,
   "metadata": {
    "colab": {},
    "colab_type": "code",
    "id": "32LlC0eV5TIx"
   },
   "outputs": [],
   "source": [
    "from torch_geometric.nn import GCNConv, AGNNConv, SAGEConv,GATConv"
   ]
  },
  {
   "cell_type": "code",
   "execution_count": 0,
   "metadata": {
    "colab": {},
    "colab_type": "code",
    "id": "ZULiCVHfMGFr"
   },
   "outputs": [],
   "source": []
  },
  {
   "cell_type": "code",
   "execution_count": 0,
   "metadata": {
    "colab": {},
    "colab_type": "code",
    "id": "W-KbD7v85TMF"
   },
   "outputs": [],
   "source": [
    "cora = torch.load('/content/drive/My Drive/Connected_graph/Con_Cora.pt')"
   ]
  },
  {
   "cell_type": "code",
   "execution_count": 0,
   "metadata": {
    "colab": {},
    "colab_type": "code",
    "id": "9xuJEJqPL_R_"
   },
   "outputs": [],
   "source": [
    "cite_seer = torch.load('/content/drive/My Drive/Connected_graph/Con_Cite.pt')\n"
   ]
  },
  {
   "cell_type": "code",
   "execution_count": 0,
   "metadata": {
    "colab": {},
    "colab_type": "code",
    "id": "iVVNkVNgL_di"
   },
   "outputs": [],
   "source": []
  },
  {
   "cell_type": "code",
   "execution_count": 0,
   "metadata": {
    "colab": {},
    "colab_type": "code",
    "id": "SRRtmBD77PcQ"
   },
   "outputs": [],
   "source": [
    "def Gen_data(dataset, num_features,seed):\n",
    "    np.random.seed(seed)\n",
    "    data = dataset.clone()\n",
    "    rx = np.random.normal(0, 1, size=(data.num_nodes, num_features) )\n",
    "    #rx = np.random.random((data.num_nodes, num_features))\n",
    "    rx = torch.FloatTensor(rx)\n",
    "    data.x = rx\n",
    "    return data"
   ]
  },
  {
   "cell_type": "code",
   "execution_count": 0,
   "metadata": {
    "colab": {},
    "colab_type": "code",
    "id": "dloCo-K37Pgd"
   },
   "outputs": [],
   "source": []
  },
  {
   "cell_type": "code",
   "execution_count": 0,
   "metadata": {
    "colab": {},
    "colab_type": "code",
    "id": "gnRLDB-a7Pkn"
   },
   "outputs": [],
   "source": [
    "# Cora\n",
    "cora_seed = 1024\n",
    "N_F = 300\n",
    "r_cora = Gen_data(cora, N_F, cora_seed)"
   ]
  },
  {
   "cell_type": "code",
   "execution_count": 0,
   "metadata": {
    "colab": {},
    "colab_type": "code",
    "id": "qPJnrlt-7P_6"
   },
   "outputs": [],
   "source": [
    "#Cite_Seer\n",
    "cite_seer_seed = 1024\n",
    "N_F = 500\n",
    "r_citeseer = Gen_data(cite_seer, N_F, cite_seer_seed)"
   ]
  },
  {
   "cell_type": "code",
   "execution_count": 0,
   "metadata": {
    "colab": {},
    "colab_type": "code",
    "id": "Kl_Mfvrh7P66"
   },
   "outputs": [],
   "source": [
    "#pubmed\n",
    "pub_med_seed = 1024\n",
    "N_F = 1000\n",
    "r_pubmed = Gen_data(pub_med, N_F, pub_med_seed)"
   ]
  },
  {
   "cell_type": "code",
   "execution_count": 0,
   "metadata": {
    "colab": {},
    "colab_type": "code",
    "id": "_beACk6c7P2B"
   },
   "outputs": [],
   "source": []
  },
  {
   "cell_type": "code",
   "execution_count": 0,
   "metadata": {
    "colab": {},
    "colab_type": "code",
    "id": "RW_naWBd7PxX"
   },
   "outputs": [],
   "source": [
    "data = r_cora\n",
    "num_features = data.num_features\n",
    "num_classes = len(set(data.y.numpy()))"
   ]
  },
  {
   "cell_type": "code",
   "execution_count": 0,
   "metadata": {
    "colab": {
     "base_uri": "https://localhost:8080/",
     "height": 140
    },
    "colab_type": "code",
    "executionInfo": {
     "elapsed": 1049,
     "status": "ok",
     "timestamp": 1584339621944,
     "user": {
      "displayName": "Alexy Robert",
      "photoUrl": "https://lh3.googleusercontent.com/a-/AOh14Ggz_PITpCVZkOGCc-PYV93u9s6v6n1BoAux_QBT=s64",
      "userId": "05809751795814209528"
     },
     "user_tz": -480
    },
    "id": "fPz4vcPH7Pvv",
    "outputId": "f67a1102-018e-47dc-c165-1b639c66ef29"
   },
   "outputs": [
    {
     "data": {
      "text/plain": [
       "tensor([[ 2.1244,  0.2526,  1.4542,  ..., -0.1193,  0.8857, -0.4781],\n",
       "        [-0.0751,  2.1528, -0.0590,  ..., -1.2324, -0.7668,  1.6055],\n",
       "        [-1.7063, -1.0334,  1.3078,  ...,  0.8975,  0.1197,  0.2837],\n",
       "        ...,\n",
       "        [ 0.9521,  0.6183, -0.4583,  ...,  1.3327,  0.1096,  0.5242],\n",
       "        [ 1.0178, -0.6566,  0.2029,  ..., -0.4533, -0.8218,  0.7424],\n",
       "        [-0.8163, -1.1790,  0.1091,  ...,  0.1708,  0.2179, -1.2352]])"
      ]
     },
     "execution_count": 39,
     "metadata": {
      "tags": []
     },
     "output_type": "execute_result"
    }
   ],
   "source": [
    "r_cora.x"
   ]
  },
  {
   "cell_type": "markdown",
   "metadata": {
    "colab_type": "text",
    "id": "wVPohL7o7vlC"
   },
   "source": [
    "# GCN"
   ]
  },
  {
   "cell_type": "code",
   "execution_count": 0,
   "metadata": {
    "colab": {},
    "colab_type": "code",
    "id": "2gZADZcf7PrM"
   },
   "outputs": [],
   "source": [
    "class Net(torch.nn.Module):\n",
    "    def __init__(self):\n",
    "        super(Net, self).__init__()\n",
    "        self.conv1 = GCNConv(num_features, 64, cached=True)\n",
    "        self.conv2 = GCNConv(64, num_classes, cached=True)\n",
    "\n",
    "    def forward(self):\n",
    "        x, edge_index, edge_weight = data.x, data.edge_index, data.edge_attr\n",
    "        x = F.relu(self.conv1(x, edge_index, edge_weight))\n",
    "        x = F.dropout(x, training=self.training)\n",
    "        x = self.conv2(x, edge_index, edge_weight)\n",
    "        return F.log_softmax(x, dim=1)"
   ]
  },
  {
   "cell_type": "code",
   "execution_count": 0,
   "metadata": {
    "colab": {},
    "colab_type": "code",
    "id": "gHrR3UmB7Ppk"
   },
   "outputs": [],
   "source": []
  },
  {
   "cell_type": "code",
   "execution_count": 19,
   "metadata": {
    "colab": {
     "base_uri": "https://localhost:8080/",
     "height": 1000
    },
    "colab_type": "code",
    "executionInfo": {
     "elapsed": 39407,
     "status": "ok",
     "timestamp": 1584514902150,
     "user": {
      "displayName": "Alexy Robert",
      "photoUrl": "https://lh3.googleusercontent.com/a-/AOh14Ggz_PITpCVZkOGCc-PYV93u9s6v6n1BoAux_QBT=s64",
      "userId": "05809751795814209528"
     },
     "user_tz": -480
    },
    "id": "GqObMknE7Pmw",
    "outputId": "3af847ff-6f7e-4a71-edc8-5c0aa2bb5261"
   },
   "outputs": [
    {
     "name": "stdout",
     "output_type": "stream",
     "text": [
      "Net(\n",
      "  (conv1): GCNConv(300, 64)\n",
      "  (conv2): GCNConv(64, 7)\n",
      ")\n",
      "\n",
      "Test Accuracy 0.5038\n",
      "Net(\n",
      "  (conv1): GCNConv(300, 64)\n",
      "  (conv2): GCNConv(64, 7)\n",
      ")\n",
      "\n",
      "Test Accuracy 0.5049\n",
      "Net(\n",
      "  (conv1): GCNConv(300, 64)\n",
      "  (conv2): GCNConv(64, 7)\n",
      ")\n",
      "\n",
      "Test Accuracy 0.4973\n",
      "Net(\n",
      "  (conv1): GCNConv(300, 64)\n",
      "  (conv2): GCNConv(64, 7)\n",
      ")\n",
      "\n",
      "Test Accuracy 0.5071\n",
      "Net(\n",
      "  (conv1): GCNConv(300, 64)\n",
      "  (conv2): GCNConv(64, 7)\n",
      ")\n",
      "\n",
      "Test Accuracy 0.4951\n",
      "Net(\n",
      "  (conv1): GCNConv(300, 64)\n",
      "  (conv2): GCNConv(64, 7)\n",
      ")\n",
      "\n",
      "Test Accuracy 0.4809\n",
      "Net(\n",
      "  (conv1): GCNConv(300, 64)\n",
      "  (conv2): GCNConv(64, 7)\n",
      ")\n",
      "\n",
      "Test Accuracy 0.5038\n",
      "Net(\n",
      "  (conv1): GCNConv(300, 64)\n",
      "  (conv2): GCNConv(64, 7)\n",
      ")\n",
      "\n",
      "Test Accuracy 0.5027\n",
      "Net(\n",
      "  (conv1): GCNConv(300, 64)\n",
      "  (conv2): GCNConv(64, 7)\n",
      ")\n",
      "\n",
      "Test Accuracy 0.4732\n",
      "Net(\n",
      "  (conv1): GCNConv(300, 64)\n",
      "  (conv2): GCNConv(64, 7)\n",
      ")\n",
      "\n",
      "Test Accuracy 0.4940\n"
     ]
    }
   ],
   "source": [
    "gcns = []\n",
    "for _ in range(10):\n",
    "  device = torch.device('cuda' if torch.cuda.is_available() else 'cpu')\n",
    "  model, data = Net().to(device), data.to(device)\n",
    "  '''optimizer = torch.optim.Adam([\n",
    "      dict(params=model.reg_params, weight_decay=5e-4),\n",
    "      dict(params=model.non_reg_params, weight_decay=0)\n",
    "  ], lr=0.01)'''\n",
    "  #r_cora_gcn\n",
    "  optimizer = torch.optim.Adam(model.parameters(), lr=0.02, weight_decay=5e-4)\n",
    "  #r_pubmed_gcn\n",
    "  #optimizer = torch.optim.Adam(model.parameters(), lr=0.002, weight_decay=5e-4)#0.395\n",
    "  #optimizer = torch.optim.Adam(model.parameters(), lr=0.5, weight_decay=5e-1)#0.424\n",
    "  #r_cite_seer_gcn\n",
    "  #optimizer = torch.optim.Adam(model.parameters(), lr=0.02, weight_decay=5e-4)\n",
    "\n",
    "  def train():\n",
    "      model.train()\n",
    "      optimizer.zero_grad()\n",
    "      loss = F.nll_loss(model()[data.train_mask], data.y[data.train_mask])\n",
    "      loss.backward()\n",
    "      optimizer.step()\n",
    "      return loss\n",
    "\n",
    "  def test(mask):\n",
    "      model.eval()\n",
    "      with torch.no_grad():\n",
    "          logits = model()\n",
    "          pred = logits[mask].max(1)[1]\n",
    "          acc = pred.eq(data.y[mask]).sum().item() / mask.sum().item()\n",
    "          \n",
    "      return acc\n",
    "\n",
    "\n",
    "  early_stop = True\n",
    "  if early_stop:\n",
    "      stopper = EarlyStopping(patience=100)\n",
    "  dur = []\n",
    "  print(model)\n",
    "\n",
    "  for epoch in range(1, 101):\n",
    "      model.train()\n",
    "      if epoch >= 3:\n",
    "          t0 = time.time()\n",
    "      loss = train()\n",
    "      \n",
    "      if epoch >= 3:\n",
    "          dur.append(time.time() - t0)\n",
    "      \n",
    "      val_acc = test(data.val_mask)\n",
    "      \n",
    "      if early_stop:\n",
    "          if stopper.step(val_acc, model):   \n",
    "              break\n",
    "      \n",
    "      '''print(\"Epoch {:05d} | Time(s) {:.4f} | Loss {:.4f} | \"\n",
    "                \" ValAcc {:.4f}\".\n",
    "                format(epoch, np.mean(dur), loss, val_acc))'''\n",
    "      \n",
    "  print() # 空出一行\n",
    "      \n",
    "  if early_stop:\n",
    "      model.load_state_dict(torch.load('es_checkpoint.pt'))\n",
    "  test_acc = test(data.test_mask)\n",
    "  gcns.append(test_acc)\n",
    "  print(\"Test Accuracy {:.4f}\".format(test_acc))"
   ]
  },
  {
   "cell_type": "code",
   "execution_count": 0,
   "metadata": {
    "colab": {},
    "colab_type": "code",
    "id": "WsTNcEqD73zC"
   },
   "outputs": [],
   "source": []
  },
  {
   "cell_type": "code",
   "execution_count": 20,
   "metadata": {
    "colab": {
     "base_uri": "https://localhost:8080/",
     "height": 35
    },
    "colab_type": "code",
    "executionInfo": {
     "elapsed": 1308,
     "status": "ok",
     "timestamp": 1584514914123,
     "user": {
      "displayName": "Alexy Robert",
      "photoUrl": "https://lh3.googleusercontent.com/a-/AOh14Ggz_PITpCVZkOGCc-PYV93u9s6v6n1BoAux_QBT=s64",
      "userId": "05809751795814209528"
     },
     "user_tz": -480
    },
    "id": "CtnhZ3Ts74A2",
    "outputId": "db20df9e-5bad-496f-d95a-377bba437486"
   },
   "outputs": [
    {
     "data": {
      "text/plain": [
       "[0.504, 0.505, 0.497, 0.507, 0.495, 0.481, 0.504, 0.503, 0.473, 0.494]"
      ]
     },
     "execution_count": 20,
     "metadata": {
      "tags": []
     },
     "output_type": "execute_result"
    }
   ],
   "source": [
    "np.round(gcns,3).tolist()"
   ]
  },
  {
   "cell_type": "code",
   "execution_count": 21,
   "metadata": {
    "colab": {
     "base_uri": "https://localhost:8080/",
     "height": 35
    },
    "colab_type": "code",
    "executionInfo": {
     "elapsed": 718,
     "status": "ok",
     "timestamp": 1584514915605,
     "user": {
      "displayName": "Alexy Robert",
      "photoUrl": "https://lh3.googleusercontent.com/a-/AOh14Ggz_PITpCVZkOGCc-PYV93u9s6v6n1BoAux_QBT=s64",
      "userId": "05809751795814209528"
     },
     "user_tz": -480
    },
    "id": "OKUf4pmB74Jn",
    "outputId": "12755b35-f162-4e02-825a-3c37bafd6bdf"
   },
   "outputs": [
    {
     "data": {
      "text/plain": [
       "0.4962841530054646"
      ]
     },
     "execution_count": 21,
     "metadata": {
      "tags": []
     },
     "output_type": "execute_result"
    }
   ],
   "source": [
    "np.mean(gcns)"
   ]
  },
  {
   "cell_type": "code",
   "execution_count": 0,
   "metadata": {
    "colab": {},
    "colab_type": "code",
    "id": "7kwxUFIX74Oh"
   },
   "outputs": [],
   "source": []
  },
  {
   "cell_type": "markdown",
   "metadata": {
    "colab_type": "text",
    "id": "hyM6gre0LkTy"
   },
   "source": [
    "# SAGE"
   ]
  },
  {
   "cell_type": "code",
   "execution_count": 0,
   "metadata": {
    "colab": {},
    "colab_type": "code",
    "id": "DQ7g1nPR74SN"
   },
   "outputs": [],
   "source": [
    "class Net(torch.nn.Module):\n",
    "    def __init__(self):\n",
    "        super(Net, self).__init__()\n",
    "        self.conv1 = SAGEConv(num_features, 64, normalize=False)\n",
    "        self.conv2 = SAGEConv(64, num_classes, normalize=False)\n",
    "\n",
    "    def forward(self):\n",
    "        x, edge_index = data.x, data.edge_index\n",
    "        x = F.relu(self.conv1(x, edge_index))\n",
    "        x = F.dropout(x, p=0.5, training=self.training)\n",
    "        #x = F.dropout(x, training=self.training)\n",
    "        \n",
    "        x = self.conv2(x, edge_index)\n",
    "        return F.log_softmax(x, dim=1)"
   ]
  },
  {
   "cell_type": "code",
   "execution_count": 0,
   "metadata": {
    "colab": {},
    "colab_type": "code",
    "id": "l8woB9Zq74XR"
   },
   "outputs": [],
   "source": [
    "data = r_citeseer\n",
    "num_features = data.num_features\n",
    "num_classes = len(set(data.y.numpy()))"
   ]
  },
  {
   "cell_type": "code",
   "execution_count": 25,
   "metadata": {
    "colab": {
     "base_uri": "https://localhost:8080/",
     "height": 1000
    },
    "colab_type": "code",
    "executionInfo": {
     "elapsed": 121012,
     "status": "ok",
     "timestamp": 1584515154719,
     "user": {
      "displayName": "Alexy Robert",
      "photoUrl": "https://lh3.googleusercontent.com/a-/AOh14Ggz_PITpCVZkOGCc-PYV93u9s6v6n1BoAux_QBT=s64",
      "userId": "05809751795814209528"
     },
     "user_tz": -480
    },
    "id": "awQXaU5d74es",
    "outputId": "7479b860-7198-4a86-927a-7d177c169327"
   },
   "outputs": [
    {
     "name": "stdout",
     "output_type": "stream",
     "text": [
      "Net(\n",
      "  (conv1): SAGEConv(500, 64)\n",
      "  (conv2): SAGEConv(64, 6)\n",
      ")\n",
      "\n",
      "Test Accuracy 0.4344\n",
      "Net(\n",
      "  (conv1): SAGEConv(500, 64)\n",
      "  (conv2): SAGEConv(64, 6)\n",
      ")\n",
      "\n",
      "Test Accuracy 0.3997\n",
      "Net(\n",
      "  (conv1): SAGEConv(500, 64)\n",
      "  (conv2): SAGEConv(64, 6)\n",
      ")\n",
      "\n",
      "Test Accuracy 0.3997\n",
      "Net(\n",
      "  (conv1): SAGEConv(500, 64)\n",
      "  (conv2): SAGEConv(64, 6)\n",
      ")\n",
      "\n",
      "Test Accuracy 0.3982\n",
      "Net(\n",
      "  (conv1): SAGEConv(500, 64)\n",
      "  (conv2): SAGEConv(64, 6)\n",
      ")\n",
      "\n",
      "Test Accuracy 0.4087\n",
      "Net(\n",
      "  (conv1): SAGEConv(500, 64)\n",
      "  (conv2): SAGEConv(64, 6)\n",
      ")\n",
      "\n",
      "Test Accuracy 0.4133\n",
      "Net(\n",
      "  (conv1): SAGEConv(500, 64)\n",
      "  (conv2): SAGEConv(64, 6)\n",
      ")\n",
      "\n",
      "Test Accuracy 0.4057\n",
      "Net(\n",
      "  (conv1): SAGEConv(500, 64)\n",
      "  (conv2): SAGEConv(64, 6)\n",
      ")\n",
      "\n",
      "Test Accuracy 0.4072\n",
      "Net(\n",
      "  (conv1): SAGEConv(500, 64)\n",
      "  (conv2): SAGEConv(64, 6)\n",
      ")\n",
      "\n",
      "Test Accuracy 0.3937\n",
      "Net(\n",
      "  (conv1): SAGEConv(500, 64)\n",
      "  (conv2): SAGEConv(64, 6)\n",
      ")\n",
      "\n",
      "Test Accuracy 0.4103\n"
     ]
    }
   ],
   "source": [
    "sages = []\n",
    "for _ in range(10):\n",
    "  device = torch.device('cuda' if torch.cuda.is_available() else 'cpu')\n",
    "  model, data = Net().to(device), data.to(device)\n",
    "  '''optimizer = torch.optim.Adam([\n",
    "      dict(params=model.reg_params, weight_decay=5e-4),\n",
    "      dict(params=model.non_reg_params, weight_decay=0)\n",
    "  ], lr=0.01)'''\n",
    "  #r_cora_sage\n",
    "  #optimizer = torch.optim.Adam(model.parameters(), lr=0.02, weight_decay=5e-4)\n",
    "  #pubmed\n",
    "  #optimizer = torch.optim.Adam(model.parameters(), lr=0.5, weight_decay=5e-1)\n",
    "  #r_cite_seer_sage\n",
    "  optimizer = torch.optim.Adam(model.parameters(), lr=0.02, weight_decay=5e-4)\n",
    "\n",
    "  def train():\n",
    "      model.train()\n",
    "      optimizer.zero_grad()\n",
    "      loss = F.nll_loss(model()[data.train_mask], data.y[data.train_mask])\n",
    "      loss.backward()\n",
    "      optimizer.step()\n",
    "      return loss\n",
    "\n",
    "  def test(mask):\n",
    "      model.eval()\n",
    "      with torch.no_grad():\n",
    "          logits = model()\n",
    "          pred = logits[mask].max(1)[1]\n",
    "          acc = pred.eq(data.y[mask]).sum().item() / mask.sum().item()\n",
    "          \n",
    "      return acc\n",
    "\n",
    "\n",
    "  early_stop = True\n",
    "  if early_stop:\n",
    "      stopper = EarlyStopping(patience=100)\n",
    "  dur = []\n",
    "  print(model)\n",
    "\n",
    "  for epoch in range(1, 101):\n",
    "      model.train()\n",
    "      if epoch >= 3:\n",
    "          t0 = time.time()\n",
    "      loss = train()\n",
    "      \n",
    "      if epoch >= 3:\n",
    "          dur.append(time.time() - t0)\n",
    "      \n",
    "      val_acc = test(data.val_mask)\n",
    "      \n",
    "      if early_stop:\n",
    "          if stopper.step(val_acc, model):   \n",
    "              break\n",
    "      \n",
    "      '''print(\"Epoch {:05d} | Time(s) {:.4f} | Loss {:.4f} | \"\n",
    "                \" ValAcc {:.4f}\".\n",
    "                format(epoch, np.mean(dur), loss, val_acc))'''\n",
    "      \n",
    "  print() # 空出一行\n",
    "      \n",
    "  if early_stop:\n",
    "      model.load_state_dict(torch.load('es_checkpoint.pt'))\n",
    "  test_acc = test(data.test_mask)\n",
    "  sages.append(test_acc)\n",
    "  print(\"Test Accuracy {:.4f}\".format(test_acc))"
   ]
  },
  {
   "cell_type": "code",
   "execution_count": 0,
   "metadata": {
    "colab": {},
    "colab_type": "code",
    "id": "v9eeUEju74l4"
   },
   "outputs": [],
   "source": []
  },
  {
   "cell_type": "code",
   "execution_count": 26,
   "metadata": {
    "colab": {
     "base_uri": "https://localhost:8080/",
     "height": 35
    },
    "colab_type": "code",
    "executionInfo": {
     "elapsed": 1236,
     "status": "ok",
     "timestamp": 1584515161422,
     "user": {
      "displayName": "Alexy Robert",
      "photoUrl": "https://lh3.googleusercontent.com/a-/AOh14Ggz_PITpCVZkOGCc-PYV93u9s6v6n1BoAux_QBT=s64",
      "userId": "05809751795814209528"
     },
     "user_tz": -480
    },
    "id": "hHSFxHrS74tZ",
    "outputId": "7a809612-4179-4d9a-fc1a-e4773a203ab7"
   },
   "outputs": [
    {
     "data": {
      "text/plain": [
       "[0.434, 0.4, 0.4, 0.398, 0.409, 0.413, 0.406, 0.407, 0.394, 0.41]"
      ]
     },
     "execution_count": 26,
     "metadata": {
      "tags": []
     },
     "output_type": "execute_result"
    }
   ],
   "source": [
    "np.round(sages,3).tolist()"
   ]
  },
  {
   "cell_type": "code",
   "execution_count": 27,
   "metadata": {
    "colab": {
     "base_uri": "https://localhost:8080/",
     "height": 35
    },
    "colab_type": "code",
    "executionInfo": {
     "elapsed": 1470,
     "status": "ok",
     "timestamp": 1584515162913,
     "user": {
      "displayName": "Alexy Robert",
      "photoUrl": "https://lh3.googleusercontent.com/a-/AOh14Ggz_PITpCVZkOGCc-PYV93u9s6v6n1BoAux_QBT=s64",
      "userId": "05809751795814209528"
     },
     "user_tz": -480
    },
    "id": "uNIHWnvp758g",
    "outputId": "1385ae2b-e6b5-45f9-f50b-9ea545a2e734"
   },
   "outputs": [
    {
     "data": {
      "text/plain": [
       "0.4070889894419306"
      ]
     },
     "execution_count": 27,
     "metadata": {
      "tags": []
     },
     "output_type": "execute_result"
    }
   ],
   "source": [
    "np.mean(sages)"
   ]
  },
  {
   "cell_type": "code",
   "execution_count": 0,
   "metadata": {
    "colab": {},
    "colab_type": "code",
    "id": "mCzxUGtl750y"
   },
   "outputs": [],
   "source": []
  },
  {
   "cell_type": "markdown",
   "metadata": {
    "colab_type": "text",
    "id": "XVU5CEaDXk56"
   },
   "source": [
    "# AGNN"
   ]
  },
  {
   "cell_type": "code",
   "execution_count": 0,
   "metadata": {
    "colab": {},
    "colab_type": "code",
    "id": "O7SULAHp75nx"
   },
   "outputs": [],
   "source": [
    "class Net(torch.nn.Module):\n",
    "    def __init__(self):\n",
    "        super(Net, self).__init__()\n",
    "        self.lin1 = torch.nn.Linear(num_features, 64)\n",
    "        self.prop1 = AGNNConv(requires_grad=True)\n",
    "        self.prop2 = AGNNConv(requires_grad=True)\n",
    "        self.lin2 = torch.nn.Linear(64, num_classes)\n",
    "\n",
    "    def forward(self):\n",
    "        x = F.dropout(data.x, training=self.training)\n",
    "        x = F.relu(self.lin1(x))\n",
    "        x = self.prop1(x, data.edge_index)\n",
    "        x = self.prop2(x, data.edge_index)\n",
    "        x = F.dropout(x, training=self.training)\n",
    "        x = self.lin2(x)\n",
    "        return F.log_softmax(x, dim=1)"
   ]
  },
  {
   "cell_type": "code",
   "execution_count": 0,
   "metadata": {
    "colab": {},
    "colab_type": "code",
    "id": "kB2JKwPf75gH"
   },
   "outputs": [],
   "source": [
    "data = r_pubmed\n",
    "num_features = data.num_features\n",
    "num_classes = len(set(data.y.numpy()))"
   ]
  },
  {
   "cell_type": "code",
   "execution_count": 0,
   "metadata": {
    "colab": {
     "base_uri": "https://localhost:8080/",
     "height": 1000
    },
    "colab_type": "code",
    "executionInfo": {
     "elapsed": 1189088,
     "status": "ok",
     "timestamp": 1584443263772,
     "user": {
      "displayName": "Alexy Robert",
      "photoUrl": "https://lh3.googleusercontent.com/a-/AOh14Ggz_PITpCVZkOGCc-PYV93u9s6v6n1BoAux_QBT=s64",
      "userId": "05809751795814209528"
     },
     "user_tz": -480
    },
    "id": "RRSM7EW375Yu",
    "outputId": "ed82dead-8e8d-4df8-846e-1794821d79bc"
   },
   "outputs": [
    {
     "name": "stdout",
     "output_type": "stream",
     "text": [
      "Net(\n",
      "  (lin1): Linear(in_features=1000, out_features=64, bias=True)\n",
      "  (prop1): AGNNConv()\n",
      "  (prop2): AGNNConv()\n",
      "  (lin2): Linear(in_features=64, out_features=3, bias=True)\n",
      ")\n",
      "\n",
      "Test Accuracy 0.4030\n",
      "Net(\n",
      "  (lin1): Linear(in_features=1000, out_features=64, bias=True)\n",
      "  (prop1): AGNNConv()\n",
      "  (prop2): AGNNConv()\n",
      "  (lin2): Linear(in_features=64, out_features=3, bias=True)\n",
      ")\n",
      "\n",
      "Test Accuracy 0.4500\n",
      "Net(\n",
      "  (lin1): Linear(in_features=1000, out_features=64, bias=True)\n",
      "  (prop1): AGNNConv()\n",
      "  (prop2): AGNNConv()\n",
      "  (lin2): Linear(in_features=64, out_features=3, bias=True)\n",
      ")\n",
      "\n",
      "Test Accuracy 0.4080\n",
      "Net(\n",
      "  (lin1): Linear(in_features=1000, out_features=64, bias=True)\n",
      "  (prop1): AGNNConv()\n",
      "  (prop2): AGNNConv()\n",
      "  (lin2): Linear(in_features=64, out_features=3, bias=True)\n",
      ")\n",
      "\n",
      "Test Accuracy 0.4850\n",
      "Net(\n",
      "  (lin1): Linear(in_features=1000, out_features=64, bias=True)\n",
      "  (prop1): AGNNConv()\n",
      "  (prop2): AGNNConv()\n",
      "  (lin2): Linear(in_features=64, out_features=3, bias=True)\n",
      ")\n",
      "\n",
      "Test Accuracy 0.4420\n",
      "Net(\n",
      "  (lin1): Linear(in_features=1000, out_features=64, bias=True)\n",
      "  (prop1): AGNNConv()\n",
      "  (prop2): AGNNConv()\n",
      "  (lin2): Linear(in_features=64, out_features=3, bias=True)\n",
      ")\n",
      "\n",
      "Test Accuracy 0.4340\n",
      "Net(\n",
      "  (lin1): Linear(in_features=1000, out_features=64, bias=True)\n",
      "  (prop1): AGNNConv()\n",
      "  (prop2): AGNNConv()\n",
      "  (lin2): Linear(in_features=64, out_features=3, bias=True)\n",
      ")\n",
      "\n",
      "Test Accuracy 0.4380\n",
      "Net(\n",
      "  (lin1): Linear(in_features=1000, out_features=64, bias=True)\n",
      "  (prop1): AGNNConv()\n",
      "  (prop2): AGNNConv()\n",
      "  (lin2): Linear(in_features=64, out_features=3, bias=True)\n",
      ")\n",
      "\n",
      "Test Accuracy 0.4570\n",
      "Net(\n",
      "  (lin1): Linear(in_features=1000, out_features=64, bias=True)\n",
      "  (prop1): AGNNConv()\n",
      "  (prop2): AGNNConv()\n",
      "  (lin2): Linear(in_features=64, out_features=3, bias=True)\n",
      ")\n",
      "\n",
      "Test Accuracy 0.4370\n",
      "Net(\n",
      "  (lin1): Linear(in_features=1000, out_features=64, bias=True)\n",
      "  (prop1): AGNNConv()\n",
      "  (prop2): AGNNConv()\n",
      "  (lin2): Linear(in_features=64, out_features=3, bias=True)\n",
      ")\n",
      "\n",
      "Test Accuracy 0.4010\n"
     ]
    }
   ],
   "source": [
    "agnns = []\n",
    "for _ in range(10):\n",
    "  device = torch.device('cuda' if torch.cuda.is_available() else 'cpu')\n",
    "  model, data = Net().to(device), data.to(device)\n",
    "\n",
    "  #r_cora\n",
    "  #optimizer = torch.optim.Adam(model.parameters(), lr=0.02, weight_decay=5e-4)\n",
    "  #r-pubmed\n",
    "  optimizer = torch.optim.Adam(model.parameters(), lr=0.5, weight_decay=5e-1)\n",
    "  #r-cite_seer\n",
    "  #optimizer = torch.optim.Adam(model.parameters(), lr=0.5, weight_decay=5e-1)\n",
    "  #optimizer = torch.optim.Adam(model.parameters(), lr=0.02, weight_decay=5e-4)\n",
    "\n",
    "  def train():\n",
    "      model.train()\n",
    "      optimizer.zero_grad()\n",
    "      loss = F.nll_loss(model()[data.train_mask], data.y[data.train_mask])\n",
    "      loss.backward()\n",
    "      optimizer.step()\n",
    "      return loss\n",
    "\n",
    "  def test(mask):\n",
    "      model.eval()\n",
    "      with torch.no_grad():\n",
    "          logits = model()\n",
    "          pred = logits[mask].max(1)[1]\n",
    "          acc = pred.eq(data.y[mask]).sum().item() / mask.sum().item()\n",
    "          \n",
    "      return acc\n",
    "\n",
    "\n",
    "  early_stop = True\n",
    "  if early_stop:\n",
    "      stopper = EarlyStopping(patience=100)\n",
    "  dur = []\n",
    "  print(model)\n",
    "\n",
    "  for epoch in range(1, 101):\n",
    "      model.train()\n",
    "      if epoch >= 3:\n",
    "          t0 = time.time()\n",
    "      loss = train()\n",
    "      \n",
    "      if epoch >= 3:\n",
    "          dur.append(time.time() - t0)\n",
    "      \n",
    "      val_acc = test(data.val_mask)\n",
    "      \n",
    "      if early_stop:\n",
    "          if stopper.step(val_acc, model):   \n",
    "              break\n",
    "      \n",
    "      '''print(\"Epoch {:05d} | Time(s) {:.4f} | Loss {:.4f} | \"\n",
    "                \" ValAcc {:.4f}\".\n",
    "                format(epoch, np.mean(dur), loss, val_acc))'''\n",
    "      \n",
    "  print() \n",
    "      \n",
    "  if early_stop:\n",
    "      model.load_state_dict(torch.load('es_checkpoint.pt'))\n",
    "  test_acc = test(data.test_mask)\n",
    "  agnns.append(test_acc)\n",
    "  print(\"Test Accuracy {:.4f}\".format(test_acc))"
   ]
  },
  {
   "cell_type": "code",
   "execution_count": 0,
   "metadata": {
    "colab": {},
    "colab_type": "code",
    "id": "AkU3Rj_M75WX"
   },
   "outputs": [],
   "source": []
  },
  {
   "cell_type": "code",
   "execution_count": 0,
   "metadata": {
    "colab": {
     "base_uri": "https://localhost:8080/",
     "height": 35
    },
    "colab_type": "code",
    "executionInfo": {
     "elapsed": 818,
     "status": "ok",
     "timestamp": 1584443827623,
     "user": {
      "displayName": "Alexy Robert",
      "photoUrl": "https://lh3.googleusercontent.com/a-/AOh14Ggz_PITpCVZkOGCc-PYV93u9s6v6n1BoAux_QBT=s64",
      "userId": "05809751795814209528"
     },
     "user_tz": -480
    },
    "id": "WF2Nm64b75PG",
    "outputId": "997c32e0-4fe8-47b1-b435-1969025e95c4"
   },
   "outputs": [
    {
     "data": {
      "text/plain": [
       "[0.403, 0.45, 0.408, 0.485, 0.442, 0.434, 0.438, 0.457, 0.437, 0.401]"
      ]
     },
     "execution_count": 29,
     "metadata": {
      "tags": []
     },
     "output_type": "execute_result"
    }
   ],
   "source": [
    "np.round(agnns,3).tolist()"
   ]
  },
  {
   "cell_type": "code",
   "execution_count": 0,
   "metadata": {
    "colab": {
     "base_uri": "https://localhost:8080/",
     "height": 35
    },
    "colab_type": "code",
    "executionInfo": {
     "elapsed": 1034,
     "status": "ok",
     "timestamp": 1584443829862,
     "user": {
      "displayName": "Alexy Robert",
      "photoUrl": "https://lh3.googleusercontent.com/a-/AOh14Ggz_PITpCVZkOGCc-PYV93u9s6v6n1BoAux_QBT=s64",
      "userId": "05809751795814209528"
     },
     "user_tz": -480
    },
    "id": "EMarcjlJ75L2",
    "outputId": "77aa4f13-3305-48b6-ea25-72b0770b5cff"
   },
   "outputs": [
    {
     "data": {
      "text/plain": [
       "0.43549999999999994"
      ]
     },
     "execution_count": 30,
     "metadata": {
      "tags": []
     },
     "output_type": "execute_result"
    }
   ],
   "source": [
    "np.mean(agnns)"
   ]
  },
  {
   "cell_type": "code",
   "execution_count": 0,
   "metadata": {
    "colab": {},
    "colab_type": "code",
    "id": "Utanjy9V75FV"
   },
   "outputs": [],
   "source": []
  },
  {
   "cell_type": "code",
   "execution_count": 0,
   "metadata": {
    "colab": {},
    "colab_type": "code",
    "id": "ltiZH_nW74-O"
   },
   "outputs": [],
   "source": []
  },
  {
   "cell_type": "markdown",
   "metadata": {
    "colab_type": "text",
    "id": "Kp1NJjmmhvJJ"
   },
   "source": [
    "# GAT"
   ]
  },
  {
   "cell_type": "code",
   "execution_count": 0,
   "metadata": {
    "colab": {},
    "colab_type": "code",
    "id": "642jnnDZ743H"
   },
   "outputs": [],
   "source": [
    "#cora上用的好像relu！！\n",
    "class Net(torch.nn.Module):\n",
    "    def __init__(self):\n",
    "        super(Net, self).__init__()\n",
    "        self.conv1 = GATConv(num_features, 8, heads=8, dropout=0.6)\n",
    "        # On the Pubmed dataset, use heads=8 in conv2.\n",
    "        self.conv2 = GATConv(\n",
    "            8 * 8, num_classes, heads=1, concat=True, dropout=0.6)\n",
    "\n",
    "    def forward(self):\n",
    "        x = F.dropout(data.x, p=0.6, training=self.training)\n",
    "        x = F.elu(self.conv1(data.x, data.edge_index)) \n",
    "        x = F.dropout(x, p=0.6, training=self.training)\n",
    "        x = self.conv2(x, data.edge_index) \n",
    "        return F.log_softmax(x, dim=1)"
   ]
  },
  {
   "cell_type": "code",
   "execution_count": 0,
   "metadata": {
    "colab": {},
    "colab_type": "code",
    "id": "fyMUPxkc2pu1"
   },
   "outputs": [],
   "source": []
  },
  {
   "cell_type": "code",
   "execution_count": 0,
   "metadata": {
    "colab": {},
    "colab_type": "code",
    "id": "HypYkxx72qQG"
   },
   "outputs": [],
   "source": [
    "# pubmed\n",
    "class Net(torch.nn.Module):\n",
    "    def __init__(self):\n",
    "        super(Net, self).__init__()\n",
    "        self.conv1 = GATConv(num_features, 8, heads=8, dropout=0.6)\n",
    "        # On the Pubmed dataset, use heads=8 in conv2.\n",
    "        self.conv2 = GATConv(\n",
    "            8*8, num_classes, heads=8, concat=True, dropout=0.6)\n",
    "\n",
    "    def forward(self):\n",
    "        x = F.dropout(data.x, p=0.6, training=self.training)\n",
    "        x = F.elu(self.conv1(data.x, data.edge_index)) \n",
    "        x = F.dropout(x, p=0.6, training=self.training)\n",
    "        x = self.conv2(x, data.edge_index) \n",
    "        return F.log_softmax(x, dim=1)"
   ]
  },
  {
   "cell_type": "code",
   "execution_count": 0,
   "metadata": {
    "colab": {},
    "colab_type": "code",
    "id": "KVHJW52Ahwmv"
   },
   "outputs": [],
   "source": [
    "data = r_pubmed\n",
    "num_features = data.num_features\n",
    "num_classes = len(set(data.y.numpy()))"
   ]
  },
  {
   "cell_type": "code",
   "execution_count": 0,
   "metadata": {
    "colab": {},
    "colab_type": "code",
    "id": "82ZsCNmohw-Q"
   },
   "outputs": [],
   "source": []
  },
  {
   "cell_type": "code",
   "execution_count": 0,
   "metadata": {
    "colab": {
     "base_uri": "https://localhost:8080/",
     "height": 1000
    },
    "colab_type": "code",
    "executionInfo": {
     "elapsed": 1497655,
     "status": "ok",
     "timestamp": 1584445393969,
     "user": {
      "displayName": "Alexy Robert",
      "photoUrl": "https://lh3.googleusercontent.com/a-/AOh14Ggz_PITpCVZkOGCc-PYV93u9s6v6n1BoAux_QBT=s64",
      "userId": "05809751795814209528"
     },
     "user_tz": -480
    },
    "id": "P_aVG5tShxOs",
    "outputId": "49928356-314a-49e9-fbfc-658fb720b280"
   },
   "outputs": [
    {
     "name": "stdout",
     "output_type": "stream",
     "text": [
      "Net(\n",
      "  (conv1): GATConv(1000, 8, heads=8)\n",
      "  (conv2): GATConv(64, 3, heads=8)\n",
      ")\n",
      "\n",
      "Test Accuracy 0.4690\n",
      "Net(\n",
      "  (conv1): GATConv(1000, 8, heads=8)\n",
      "  (conv2): GATConv(64, 3, heads=8)\n",
      ")\n",
      "\n",
      "Test Accuracy 0.4460\n",
      "Net(\n",
      "  (conv1): GATConv(1000, 8, heads=8)\n",
      "  (conv2): GATConv(64, 3, heads=8)\n",
      ")\n",
      "\n",
      "Test Accuracy 0.4280\n",
      "Net(\n",
      "  (conv1): GATConv(1000, 8, heads=8)\n",
      "  (conv2): GATConv(64, 3, heads=8)\n",
      ")\n",
      "\n",
      "Test Accuracy 0.4730\n",
      "Net(\n",
      "  (conv1): GATConv(1000, 8, heads=8)\n",
      "  (conv2): GATConv(64, 3, heads=8)\n",
      ")\n",
      "\n",
      "Test Accuracy 0.4410\n",
      "Net(\n",
      "  (conv1): GATConv(1000, 8, heads=8)\n",
      "  (conv2): GATConv(64, 3, heads=8)\n",
      ")\n",
      "\n",
      "Test Accuracy 0.4780\n",
      "Net(\n",
      "  (conv1): GATConv(1000, 8, heads=8)\n",
      "  (conv2): GATConv(64, 3, heads=8)\n",
      ")\n",
      "\n",
      "Test Accuracy 0.4130\n",
      "Net(\n",
      "  (conv1): GATConv(1000, 8, heads=8)\n",
      "  (conv2): GATConv(64, 3, heads=8)\n",
      ")\n",
      "\n",
      "Test Accuracy 0.4480\n",
      "Net(\n",
      "  (conv1): GATConv(1000, 8, heads=8)\n",
      "  (conv2): GATConv(64, 3, heads=8)\n",
      ")\n",
      "\n",
      "Test Accuracy 0.4570\n",
      "Net(\n",
      "  (conv1): GATConv(1000, 8, heads=8)\n",
      "  (conv2): GATConv(64, 3, heads=8)\n",
      ")\n",
      "\n",
      "Test Accuracy 0.4360\n"
     ]
    }
   ],
   "source": [
    "gats = []\n",
    "for _ in range(10):\n",
    "  device = torch.device('cuda' if torch.cuda.is_available() else 'cpu')\n",
    "  model, data = Net().to(device), data.to(device)\n",
    "\n",
    "  #r_cora_gat\n",
    "  #optimizer = torch.optim.Adam(model.parameters(), lr=0.02, weight_decay=5e-4)\n",
    "  \n",
    "  #pubmed_gat,都还可以\n",
    "  #optimizer = torch.optim.Adam(model.parameters(), lr=0.01, weight_decay=0.001)\n",
    "  optimizer = torch.optim.Adam(model.parameters(), lr=0.02, weight_decay=5e-3)\n",
    "  \n",
    "\n",
    "  #cite_seer_gat\n",
    "  #optimizer = torch.optim.Adam(model.parameters(), lr=0.02, weight_decay=5e-4)\n",
    "  \n",
    "  def train():\n",
    "      model.train()\n",
    "      optimizer.zero_grad()\n",
    "      loss = F.nll_loss(model()[data.train_mask], data.y[data.train_mask])\n",
    "      loss.backward()\n",
    "      optimizer.step()\n",
    "      return loss\n",
    "\n",
    "  def test(mask):\n",
    "      model.eval()\n",
    "      with torch.no_grad():\n",
    "          logits = model()\n",
    "          pred = logits[mask].max(1)[1]\n",
    "          acc = pred.eq(data.y[mask]).sum().item() / mask.sum().item()\n",
    "          \n",
    "      return acc\n",
    "\n",
    "\n",
    "  early_stop = True\n",
    "  if early_stop:\n",
    "      stopper = EarlyStopping(patience=100)\n",
    "  dur = []\n",
    "  print(model)\n",
    "\n",
    "  for epoch in range(1, 101):\n",
    "      model.train()\n",
    "      if epoch >= 3:\n",
    "          t0 = time.time()\n",
    "      loss = train()\n",
    "      \n",
    "      if epoch >= 3:\n",
    "          dur.append(time.time() - t0)\n",
    "      \n",
    "      val_acc = test(data.val_mask)\n",
    "      \n",
    "      if early_stop:\n",
    "          if stopper.step(val_acc, model):   \n",
    "              break\n",
    "      \n",
    "      '''print(\"Epoch {:05d} | Time(s) {:.4f} | Loss {:.4f} | \"\n",
    "                \" ValAcc {:.4f}\".\n",
    "                format(epoch, np.mean(dur), loss, val_acc))'''\n",
    "      \n",
    "  print() # 空出一行\n",
    "      \n",
    "  if early_stop:\n",
    "      model.load_state_dict(torch.load('es_checkpoint.pt'))\n",
    "  test_acc = test(data.test_mask)\n",
    "  gats.append(test_acc)\n",
    "  print(\"Test Accuracy {:.4f}\".format(test_acc))"
   ]
  },
  {
   "cell_type": "code",
   "execution_count": 0,
   "metadata": {
    "colab": {},
    "colab_type": "code",
    "id": "DQquvsfS741P"
   },
   "outputs": [],
   "source": [
    "lr=0.01, weight_decay=0.001,0.4350. \n",
    " lr=0.02, weight_decay=5e-3, 0.4410"
   ]
  },
  {
   "cell_type": "code",
   "execution_count": 0,
   "metadata": {
    "colab": {
     "base_uri": "https://localhost:8080/",
     "height": 35
    },
    "colab_type": "code",
    "executionInfo": {
     "elapsed": 985,
     "status": "ok",
     "timestamp": 1584446324621,
     "user": {
      "displayName": "Alexy Robert",
      "photoUrl": "https://lh3.googleusercontent.com/a-/AOh14Ggz_PITpCVZkOGCc-PYV93u9s6v6n1BoAux_QBT=s64",
      "userId": "05809751795814209528"
     },
     "user_tz": -480
    },
    "id": "7IlsuPqajmVF",
    "outputId": "56641bc2-8204-45c5-9e20-ab703d21de45"
   },
   "outputs": [
    {
     "data": {
      "text/plain": [
       "[0.469, 0.446, 0.428, 0.473, 0.441, 0.478, 0.413, 0.448, 0.457, 0.436]"
      ]
     },
     "execution_count": 34,
     "metadata": {
      "tags": []
     },
     "output_type": "execute_result"
    }
   ],
   "source": [
    "np.round(gats,3).tolist()"
   ]
  },
  {
   "cell_type": "code",
   "execution_count": 0,
   "metadata": {
    "colab": {
     "base_uri": "https://localhost:8080/",
     "height": 35
    },
    "colab_type": "code",
    "executionInfo": {
     "elapsed": 691,
     "status": "ok",
     "timestamp": 1584446325911,
     "user": {
      "displayName": "Alexy Robert",
      "photoUrl": "https://lh3.googleusercontent.com/a-/AOh14Ggz_PITpCVZkOGCc-PYV93u9s6v6n1BoAux_QBT=s64",
      "userId": "05809751795814209528"
     },
     "user_tz": -480
    },
    "id": "qeXNewHgjms8",
    "outputId": "c446fb87-d98a-4250-966c-fb024e931620"
   },
   "outputs": [
    {
     "data": {
      "text/plain": [
       "0.44889999999999997"
      ]
     },
     "execution_count": 35,
     "metadata": {
      "tags": []
     },
     "output_type": "execute_result"
    }
   ],
   "source": [
    "np.mean(gats)"
   ]
  },
  {
   "cell_type": "code",
   "execution_count": 0,
   "metadata": {
    "colab": {},
    "colab_type": "code",
    "id": "9BawBW4pjm8C"
   },
   "outputs": [],
   "source": [
    "0.2-5e-4: 0.4450"
   ]
  },
  {
   "cell_type": "code",
   "execution_count": 0,
   "metadata": {
    "colab": {
     "base_uri": "https://localhost:8080/",
     "height": 35
    },
    "colab_type": "code",
    "executionInfo": {
     "elapsed": 1279,
     "status": "ok",
     "timestamp": 1584429392045,
     "user": {
      "displayName": "Alexy Robert",
      "photoUrl": "https://lh3.googleusercontent.com/a-/AOh14Ggz_PITpCVZkOGCc-PYV93u9s6v6n1BoAux_QBT=s64",
      "userId": "05809751795814209528"
     },
     "user_tz": -480
    },
    "id": "i1Prf-yPjm5X",
    "outputId": "7e01da38-4598-47c2-db98-0e4ac693cd41"
   },
   "outputs": [
    {
     "data": {
      "text/plain": [
       "0.3947"
      ]
     },
     "execution_count": 69,
     "metadata": {
      "tags": []
     },
     "output_type": "execute_result"
    }
   ],
   "source": [
    "np.mean([0.427, 0.398, 0.397, 0.403, 0.376, 0.382, 0.413, 0.389, 0.371, 0.391])"
   ]
  },
  {
   "cell_type": "code",
   "execution_count": 0,
   "metadata": {
    "colab": {},
    "colab_type": "code",
    "id": "zaeaU-Xbjmhh"
   },
   "outputs": [],
   "source": []
  },
  {
   "cell_type": "code",
   "execution_count": 0,
   "metadata": {
    "colab": {},
    "colab_type": "code",
    "id": "zdEynfBd74VW"
   },
   "outputs": [],
   "source": []
  }
 ],
 "metadata": {
  "colab": {
   "authorship_tag": "ABX9TyOYljH/n4Q0/b9IE8TrxdsF",
   "collapsed_sections": [],
   "mount_file_id": "1DTTlS4GJlhugC8pANM1wlJjyUXZw6UbH",
   "name": "Random_F_GNN.ipynb",
   "provenance": []
  },
  "kernelspec": {
   "display_name": "Python 3",
   "language": "python",
   "name": "python3"
  },
  "language_info": {
   "codemirror_mode": {
    "name": "ipython",
    "version": 3
   },
   "file_extension": ".py",
   "mimetype": "text/x-python",
   "name": "python",
   "nbconvert_exporter": "python",
   "pygments_lexer": "ipython3",
   "version": "3.7.4"
  }
 },
 "nbformat": 4,
 "nbformat_minor": 1
}
