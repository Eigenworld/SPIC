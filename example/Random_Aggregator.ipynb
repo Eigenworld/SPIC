{
 "cells": [
  {
   "cell_type": "code",
   "execution_count": 1,
   "metadata": {
    "colab": {
     "base_uri": "https://localhost:8080/",
     "height": 917
    },
    "colab_type": "code",
    "executionInfo": {
     "elapsed": 10770,
     "status": "ok",
     "timestamp": 1584793488883,
     "user": {
      "displayName": "Alexy Robert",
      "photoUrl": "https://lh3.googleusercontent.com/a-/AOh14Ggz_PITpCVZkOGCc-PYV93u9s6v6n1BoAux_QBT=s64",
      "userId": "05809751795814209528"
     },
     "user_tz": -480
    },
    "id": "L-Z9S_6JqF5s",
    "outputId": "36636846-cc82-4c2a-8be5-f8aa8b4b763f"
   },
   "outputs": [
    {
     "name": "stdout",
     "output_type": "stream",
     "text": [
      "Collecting torch_geometric\n",
      "\u001b[?25l  Downloading https://files.pythonhosted.org/packages/4c/35/8a65fc0b685d916f5f70199d6ad6f19bb002dc3a547a3fe5b68d60047f3b/torch_geometric-1.4.3.tar.gz (129kB)\n",
      "\r",
      "\u001b[K     |██▌                             | 10kB 22.9MB/s eta 0:00:01\r",
      "\u001b[K     |█████                           | 20kB 1.6MB/s eta 0:00:01\r",
      "\u001b[K     |███████▋                        | 30kB 2.0MB/s eta 0:00:01\r",
      "\u001b[K     |██████████                      | 40kB 1.6MB/s eta 0:00:01\r",
      "\u001b[K     |████████████▋                   | 51kB 1.8MB/s eta 0:00:01\r",
      "\u001b[K     |███████████████▏                | 61kB 2.1MB/s eta 0:00:01\r",
      "\u001b[K     |█████████████████▋              | 71kB 2.3MB/s eta 0:00:01\r",
      "\u001b[K     |████████████████████▏           | 81kB 2.6MB/s eta 0:00:01\r",
      "\u001b[K     |██████████████████████▊         | 92kB 2.8MB/s eta 0:00:01\r",
      "\u001b[K     |█████████████████████████▏      | 102kB 2.6MB/s eta 0:00:01\r",
      "\u001b[K     |███████████████████████████▊    | 112kB 2.6MB/s eta 0:00:01\r",
      "\u001b[K     |██████████████████████████████▎ | 122kB 2.6MB/s eta 0:00:01\r",
      "\u001b[K     |████████████████████████████████| 133kB 2.6MB/s \n",
      "\u001b[?25hRequirement already satisfied: torch in /usr/local/lib/python3.6/dist-packages (from torch_geometric) (1.4.0)\n",
      "Requirement already satisfied: numpy in /usr/local/lib/python3.6/dist-packages (from torch_geometric) (1.18.2)\n",
      "Requirement already satisfied: scipy in /usr/local/lib/python3.6/dist-packages (from torch_geometric) (1.4.1)\n",
      "Requirement already satisfied: networkx in /usr/local/lib/python3.6/dist-packages (from torch_geometric) (2.4)\n",
      "Requirement already satisfied: scikit-learn in /usr/local/lib/python3.6/dist-packages (from torch_geometric) (0.22.2.post1)\n",
      "Requirement already satisfied: scikit-image in /usr/local/lib/python3.6/dist-packages (from torch_geometric) (0.16.2)\n",
      "Requirement already satisfied: numba in /usr/local/lib/python3.6/dist-packages (from torch_geometric) (0.47.0)\n",
      "Requirement already satisfied: requests in /usr/local/lib/python3.6/dist-packages (from torch_geometric) (2.21.0)\n",
      "Collecting plyfile\n",
      "  Downloading https://files.pythonhosted.org/packages/4c/15/434d1d96f9a41fea56cb3290718123d651c56c4b7e53f0249acaf1bf34b6/plyfile-0.7.1.tar.gz\n",
      "Requirement already satisfied: pandas in /usr/local/lib/python3.6/dist-packages (from torch_geometric) (0.25.3)\n",
      "Collecting rdflib\n",
      "\u001b[?25l  Downloading https://files.pythonhosted.org/packages/3c/fe/630bacb652680f6d481b9febbb3e2c3869194a1a5fc3401a4a41195a2f8f/rdflib-4.2.2-py3-none-any.whl (344kB)\n",
      "\u001b[K     |████████████████████████████████| 348kB 7.5MB/s \n",
      "\u001b[?25hRequirement already satisfied: h5py in /usr/local/lib/python3.6/dist-packages (from torch_geometric) (2.8.0)\n",
      "Requirement already satisfied: googledrivedownloader in /usr/local/lib/python3.6/dist-packages (from torch_geometric) (0.4)\n",
      "Requirement already satisfied: decorator>=4.3.0 in /usr/local/lib/python3.6/dist-packages (from networkx->torch_geometric) (4.4.2)\n",
      "Requirement already satisfied: joblib>=0.11 in /usr/local/lib/python3.6/dist-packages (from scikit-learn->torch_geometric) (0.14.1)\n",
      "Requirement already satisfied: matplotlib!=3.0.0,>=2.0.0 in /usr/local/lib/python3.6/dist-packages (from scikit-image->torch_geometric) (3.2.0)\n",
      "Requirement already satisfied: imageio>=2.3.0 in /usr/local/lib/python3.6/dist-packages (from scikit-image->torch_geometric) (2.4.1)\n",
      "Requirement already satisfied: pillow>=4.3.0 in /usr/local/lib/python3.6/dist-packages (from scikit-image->torch_geometric) (7.0.0)\n",
      "Requirement already satisfied: PyWavelets>=0.4.0 in /usr/local/lib/python3.6/dist-packages (from scikit-image->torch_geometric) (1.1.1)\n",
      "Requirement already satisfied: llvmlite>=0.31.0dev0 in /usr/local/lib/python3.6/dist-packages (from numba->torch_geometric) (0.31.0)\n",
      "Requirement already satisfied: setuptools in /usr/local/lib/python3.6/dist-packages (from numba->torch_geometric) (46.0.0)\n",
      "Requirement already satisfied: chardet<3.1.0,>=3.0.2 in /usr/local/lib/python3.6/dist-packages (from requests->torch_geometric) (3.0.4)\n",
      "Requirement already satisfied: certifi>=2017.4.17 in /usr/local/lib/python3.6/dist-packages (from requests->torch_geometric) (2019.11.28)\n",
      "Requirement already satisfied: urllib3<1.25,>=1.21.1 in /usr/local/lib/python3.6/dist-packages (from requests->torch_geometric) (1.24.3)\n",
      "Requirement already satisfied: idna<2.9,>=2.5 in /usr/local/lib/python3.6/dist-packages (from requests->torch_geometric) (2.8)\n",
      "Requirement already satisfied: python-dateutil>=2.6.1 in /usr/local/lib/python3.6/dist-packages (from pandas->torch_geometric) (2.8.1)\n",
      "Requirement already satisfied: pytz>=2017.2 in /usr/local/lib/python3.6/dist-packages (from pandas->torch_geometric) (2018.9)\n",
      "Collecting isodate\n",
      "\u001b[?25l  Downloading https://files.pythonhosted.org/packages/9b/9f/b36f7774ff5ea8e428fdcfc4bb332c39ee5b9362ddd3d40d9516a55221b2/isodate-0.6.0-py2.py3-none-any.whl (45kB)\n",
      "\u001b[K     |████████████████████████████████| 51kB 6.3MB/s \n",
      "\u001b[?25hRequirement already satisfied: pyparsing in /usr/local/lib/python3.6/dist-packages (from rdflib->torch_geometric) (2.4.6)\n",
      "Requirement already satisfied: six in /usr/local/lib/python3.6/dist-packages (from h5py->torch_geometric) (1.12.0)\n",
      "Requirement already satisfied: kiwisolver>=1.0.1 in /usr/local/lib/python3.6/dist-packages (from matplotlib!=3.0.0,>=2.0.0->scikit-image->torch_geometric) (1.1.0)\n",
      "Requirement already satisfied: cycler>=0.10 in /usr/local/lib/python3.6/dist-packages (from matplotlib!=3.0.0,>=2.0.0->scikit-image->torch_geometric) (0.10.0)\n",
      "Building wheels for collected packages: torch-geometric, plyfile\n",
      "  Building wheel for torch-geometric (setup.py) ... \u001b[?25l\u001b[?25hdone\n",
      "  Created wheel for torch-geometric: filename=torch_geometric-1.4.3-cp36-none-any.whl size=234873 sha256=61c82bfa827cbf9ab444e07230868a239bcd0f7d593761016b1e4c5d5962aa1b\n",
      "  Stored in directory: /root/.cache/pip/wheels/e2/c1/09/8693feee3f97e440d68b09abfca8b4c1e97150ace350b5003f\n",
      "  Building wheel for plyfile (setup.py) ... \u001b[?25l\u001b[?25hdone\n",
      "  Created wheel for plyfile: filename=plyfile-0.7.1-cp36-none-any.whl size=32828 sha256=ec7c196269ca04e278236296705a94f2b8d71f5ef6fa450f135c47733435d1cd\n",
      "  Stored in directory: /root/.cache/pip/wheels/d6/0d/bf/6d603d81b98604d2ecfd5e99d4ab7c9af664fd5285ab82bbb0\n",
      "Successfully built torch-geometric plyfile\n",
      "Installing collected packages: plyfile, isodate, rdflib, torch-geometric\n",
      "Successfully installed isodate-0.6.0 plyfile-0.7.1 rdflib-4.2.2 torch-geometric-1.4.3\n"
     ]
    }
   ],
   "source": [
    "!pip install torch_geometric"
   ]
  },
  {
   "cell_type": "code",
   "execution_count": 2,
   "metadata": {
    "colab": {
     "base_uri": "https://localhost:8080/",
     "height": 231
    },
    "colab_type": "code",
    "executionInfo": {
     "elapsed": 21972,
     "status": "ok",
     "timestamp": 1584793500109,
     "user": {
      "displayName": "Alexy Robert",
      "photoUrl": "https://lh3.googleusercontent.com/a-/AOh14Ggz_PITpCVZkOGCc-PYV93u9s6v6n1BoAux_QBT=s64",
      "userId": "05809751795814209528"
     },
     "user_tz": -480
    },
    "id": "fBcAeC4lqX1N",
    "outputId": "e3ee09d4-e2de-4469-dfc8-7067179f3d51"
   },
   "outputs": [
    {
     "name": "stdout",
     "output_type": "stream",
     "text": [
      "Looking in links: https://s3.eu-central-1.amazonaws.com/pytorch-geometric.com/whl/torch-1.4.0.html\n",
      "Collecting torch-scatter==latest+cu101\n",
      "\u001b[?25l  Downloading https://s3.eu-central-1.amazonaws.com/pytorch-geometric.com/whl/torch-1.4.0/torch_scatter-latest%2Bcu101-cp36-cp36m-linux_x86_64.whl (10.6MB)\n",
      "\u001b[K     |████████████████████████████████| 10.6MB 703kB/s \n",
      "\u001b[?25hCollecting torch-sparse==latest+cu101\n",
      "\u001b[?25l  Downloading https://s3.eu-central-1.amazonaws.com/pytorch-geometric.com/whl/torch-1.4.0/torch_sparse-latest%2Bcu101-cp36-cp36m-linux_x86_64.whl (11.5MB)\n",
      "\u001b[K     |████████████████████████████████| 11.5MB 366kB/s \n",
      "\u001b[?25hRequirement already satisfied: scipy in /usr/local/lib/python3.6/dist-packages (from torch-sparse==latest+cu101) (1.4.1)\n",
      "Requirement already satisfied: numpy>=1.13.3 in /usr/local/lib/python3.6/dist-packages (from scipy->torch-sparse==latest+cu101) (1.18.2)\n",
      "Installing collected packages: torch-scatter, torch-sparse\n",
      "Successfully installed torch-scatter-2.0.4 torch-sparse-0.6.0\n"
     ]
    }
   ],
   "source": [
    "!pip install torch-scatter==latest+cu101 torch-sparse==latest+cu101 -f https://s3.eu-central-1.amazonaws.com/pytorch-geometric.com/whl/torch-1.4.0.html"
   ]
  },
  {
   "cell_type": "code",
   "execution_count": 0,
   "metadata": {
    "colab": {},
    "colab_type": "code",
    "id": "6mYNFvWjqX3R"
   },
   "outputs": [],
   "source": []
  },
  {
   "cell_type": "code",
   "execution_count": 0,
   "metadata": {
    "colab": {},
    "colab_type": "code",
    "id": "YueghlmIqX5Y"
   },
   "outputs": [],
   "source": [
    "import sys\n",
    "sys.path.insert(0, '/content/drive/My Drive')"
   ]
  },
  {
   "cell_type": "code",
   "execution_count": 0,
   "metadata": {
    "colab": {},
    "colab_type": "code",
    "id": "Bhce8VG8ue_G"
   },
   "outputs": [],
   "source": [
    "import torch\n",
    "import numpy as np\n",
    "import networkx as nx\n",
    "import torch.nn as nn\n",
    "import time"
   ]
  },
  {
   "cell_type": "code",
   "execution_count": 0,
   "metadata": {
    "colab": {},
    "colab_type": "code",
    "id": "YQjUx9NOqX7a"
   },
   "outputs": [],
   "source": [
    "from utils import EarlyStopping"
   ]
  },
  {
   "cell_type": "code",
   "execution_count": 0,
   "metadata": {
    "colab": {
     "base_uri": "https://localhost:8080/",
     "height": 54
    },
    "colab_type": "code",
    "executionInfo": {
     "elapsed": 3580,
     "status": "ok",
     "timestamp": 1584015706791,
     "user": {
      "displayName": "Alexy Robert",
      "photoUrl": "https://lh3.googleusercontent.com/a-/AOh14Ggz_PITpCVZkOGCc-PYV93u9s6v6n1BoAux_QBT=s64",
      "userId": "05809751795814209528"
     },
     "user_tz": -480
    },
    "id": "uMjKPdJ6sWwu",
    "outputId": "ea9bef3b-950f-4627-89e0-53948b223bbb"
   },
   "outputs": [
    {
     "data": {
      "text/plain": [
       "'/content'"
      ]
     },
     "execution_count": 6,
     "metadata": {
      "tags": []
     },
     "output_type": "execute_result"
    }
   ],
   "source": [
    "%pwd"
   ]
  },
  {
   "cell_type": "code",
   "execution_count": 0,
   "metadata": {
    "colab": {},
    "colab_type": "code",
    "id": "A-Z6kxANsSv_"
   },
   "outputs": [],
   "source": [
    "from torch_geometric.datasets import Planetoid"
   ]
  },
  {
   "cell_type": "code",
   "execution_count": 0,
   "metadata": {
    "colab": {},
    "colab_type": "code",
    "id": "Gjv44H33sL_-"
   },
   "outputs": [],
   "source": [
    "Cora = Planetoid(root='/content/drive/My Drive/', name='Cora')\n",
    "cora = Cora[0]"
   ]
  },
  {
   "cell_type": "code",
   "execution_count": 0,
   "metadata": {
    "colab": {},
    "colab_type": "code",
    "id": "jb3LK2JIsMD-"
   },
   "outputs": [],
   "source": [
    "C_S = Planetoid(root='/content/drive/My Drive/', name='CiteSeer')\n",
    "cite_seer = C_S[0]"
   ]
  },
  {
   "cell_type": "code",
   "execution_count": 0,
   "metadata": {
    "colab": {},
    "colab_type": "code",
    "id": "pzkNsPeNsMH8"
   },
   "outputs": [],
   "source": [
    "PM = Planetoid(root='/content/drive/My Drive/', name='PubMed')\n",
    "pub_med = PM[0]"
   ]
  },
  {
   "cell_type": "code",
   "execution_count": 0,
   "metadata": {
    "colab": {},
    "colab_type": "code",
    "id": "IY5zjLAHsMMM"
   },
   "outputs": [],
   "source": []
  },
  {
   "cell_type": "code",
   "execution_count": 0,
   "metadata": {
    "colab": {},
    "colab_type": "code",
    "id": "lT3zMVGZuFe1"
   },
   "outputs": [],
   "source": []
  },
  {
   "cell_type": "code",
   "execution_count": 0,
   "metadata": {
    "colab": {},
    "colab_type": "code",
    "id": "yz6eM0fKuFtx"
   },
   "outputs": [],
   "source": [
    "def Rand_sw(G, n=1):\n",
    "    #np.random.seed(8848)\n",
    "    A = nx.to_numpy_array(G, nodelist=range(len(G)))\n",
    "    w = np.random.random(A.shape)\n",
    "    A_upper = np.triu(A)*w\n",
    "    rw = A_upper + A_upper.T + n*np.eye(A.shape[0])\n",
    "    return rw"
   ]
  },
  {
   "cell_type": "code",
   "execution_count": 0,
   "metadata": {
    "colab": {},
    "colab_type": "code",
    "id": "sLRigClMuGKY"
   },
   "outputs": [],
   "source": [
    "def Rand_aw(G, n=1):\n",
    "    #np.random.seed(1024)\n",
    "    A = nx.to_numpy_array(G, nodelist=range(len(G))) \n",
    "    w = np.random.random(A.shape)\n",
    "    rw = A*w + n*np.eye(A.shape[0])\n",
    "    return rw"
   ]
  },
  {
   "cell_type": "code",
   "execution_count": 0,
   "metadata": {
    "colab": {},
    "colab_type": "code",
    "id": "FN675eY_uGUk"
   },
   "outputs": [],
   "source": []
  },
  {
   "cell_type": "code",
   "execution_count": 0,
   "metadata": {
    "colab": {},
    "colab_type": "code",
    "id": "oT_fCRYTuV6Q"
   },
   "outputs": [],
   "source": [
    "data = cite_seer\n",
    "edge_index, _ = remove_self_loops(data.edge_index)\n",
    "edge_index, _ = add_self_loops(edge_index, num_nodes=data.num_nodes)\n",
    "edges = edge_index.numpy().T\n",
    "\n",
    "rg = nx.Graph()\n",
    "\n",
    "rg.add_edges_from(edges)"
   ]
  },
  {
   "cell_type": "code",
   "execution_count": 0,
   "metadata": {
    "colab": {},
    "colab_type": "code",
    "id": "3KUqGNclqX9S"
   },
   "outputs": [],
   "source": [
    "num_features = data.num_features\n",
    "num_classes = len(set(data.y.numpy()))"
   ]
  },
  {
   "cell_type": "code",
   "execution_count": 0,
   "metadata": {
    "colab": {},
    "colab_type": "code",
    "id": "KB_YcMmOqX_i"
   },
   "outputs": [],
   "source": [
    "import torch\n",
    "import torch.nn as nn\n",
    "from torch.nn import Linear\n",
    "import torch.nn.functional as F\n",
    "from torch_geometric.utils import remove_self_loops, add_self_loops\n",
    "from torch_geometric.nn.conv import MessagePassing\n",
    "\n",
    "\n",
    "class rw_GNN(MessagePassing):\n",
    "    def __init__(self, in_channels, out_channels, rw, k=3, cached=True, bias=True,\n",
    "                 **kwargs):\n",
    "        \n",
    "        super(rw_GNN, self).__init__(aggr='add', **kwargs)\n",
    "\n",
    "        self.in_channels = in_channels\n",
    "        self.out_channels = out_channels\n",
    "        self.rw = rw\n",
    "        self.k = k\n",
    "        self.cached = cached\n",
    "        self.lin = Linear(in_channels, out_channels, bias=True)\n",
    "\n",
    "        self.reset_parameters()\n",
    "\n",
    "    def reset_parameters(self):\n",
    "        gain = nn.init.calculate_gain('relu')\n",
    "        nn.init.xavier_uniform_(self.lin.weight, gain=gain)\n",
    "        nn.init.zeros_(self.lin.bias)\n",
    "        #self.lin.reset_parameters()\n",
    "        self.cached_result = None\n",
    "        self.cached_num_edges = None\n",
    "        \n",
    "    '''def reset_parameters(self):\n",
    "        self.lin.reset_parameters()\n",
    "        self.cached_result = None\n",
    "        self.cached_num_edges = None'''\n",
    "\n",
    "    def forward(self, x, edge_index):\n",
    "        \"\"\"\"\"\"\n",
    "        if self.cached and self.cached_result is not None:\n",
    "            if edge_index.size(1) != self.cached_num_edges:\n",
    "                raise RuntimeError(\n",
    "                    'Cached {} number of edges, but found {}. Please '\n",
    "                    'disable the caching behavior of this layer by removing '\n",
    "                    'the `cached=True` argument in its constructor.'.format(\n",
    "                        self.cached_num_edges, edge_index.size(1)))\n",
    "\n",
    "      \n",
    "\n",
    "        if not self.cached or self.cached_result is None:\n",
    "            self.cached_num_edges = edge_index.size(1)\n",
    "            #edge_index 处理好\n",
    "            #edge_index, _ = remove_self_loops(edge_index)\n",
    "            #edge_index, _ = add_self_loops(edge_index, num_nodes=x.size(0))\n",
    "            #权值对齐\n",
    "            #rw的索引array与tensor均可\n",
    "            norm = self.rw[edge_index[0], edge_index[1]]\n",
    "            \n",
    "            #norm = self.rw[edge_index[1], edge_index[0]]\n",
    "            \n",
    "            if not torch.is_tensor(norm):\n",
    "                norm = torch.tensor(norm, dtype=x.dtype,\n",
    "                                     device=edge_index.device)\n",
    "            \n",
    "            x = self.lin(x)\n",
    "            \n",
    "            \n",
    "            for k in range(self.k):\n",
    "                x = self.propagate(edge_index, x=x, norm=norm) \n",
    "            #self.cached_result = x\n",
    "       \n",
    "        '''if self.cached:\n",
    "            x = self.lin(self.cached_result)'''\n",
    "        return x\n",
    "    \n",
    "    def message(self, x_j, norm):\n",
    "        return norm.view(-1, 1) * x_j\n",
    "\n",
    "    def __repr__(self):\n",
    "        return '{}({}, {}, K={})'.format(self.__class__.__name__,\n",
    "                                         self.in_channels, self.out_channels,\n",
    "                                         self.k)"
   ]
  },
  {
   "cell_type": "code",
   "execution_count": 0,
   "metadata": {
    "colab": {},
    "colab_type": "code",
    "id": "ClZktno9qYBX"
   },
   "outputs": [],
   "source": [
    "sw = Rand_sw(rg, n=1)"
   ]
  },
  {
   "cell_type": "code",
   "execution_count": 0,
   "metadata": {
    "colab": {},
    "colab_type": "code",
    "id": "YevNC56MqYDX"
   },
   "outputs": [],
   "source": [
    "class Net(nn.Module):\n",
    "    def __init__(self):\n",
    "        super(Net, self).__init__()\n",
    "        self.conv = rw_GNN(\n",
    "            num_features, num_classes, rw=sw , k=2, cached=True)\n",
    "\n",
    "    def forward(self):\n",
    "        x = self.conv(data.x, data.edge_index)\n",
    "        return F.log_softmax(x, dim=1)"
   ]
  },
  {
   "cell_type": "code",
   "execution_count": 0,
   "metadata": {
    "colab": {
     "base_uri": "https://localhost:8080/",
     "height": 897
    },
    "colab_type": "code",
    "executionInfo": {
     "elapsed": 26886,
     "status": "ok",
     "timestamp": 1584519266484,
     "user": {
      "displayName": "Alexy Robert",
      "photoUrl": "https://lh3.googleusercontent.com/a-/AOh14Ggz_PITpCVZkOGCc-PYV93u9s6v6n1BoAux_QBT=s64",
      "userId": "05809751795814209528"
     },
     "user_tz": -480
    },
    "id": "2XEQs4UdqYFg",
    "outputId": "1347558c-e051-4821-dc0e-6adbdf26a572"
   },
   "outputs": [
    {
     "name": "stdout",
     "output_type": "stream",
     "text": [
      "Net(\n",
      "  (conv): rw_GNN(3703, 6, K=2)\n",
      ")\n",
      "\n",
      "Test Accuracy 0.6210\n",
      "Net(\n",
      "  (conv): rw_GNN(3703, 6, K=2)\n",
      ")\n",
      "\n",
      "Test Accuracy 0.6340\n",
      "Net(\n",
      "  (conv): rw_GNN(3703, 6, K=2)\n",
      ")\n",
      "\n",
      "Test Accuracy 0.6290\n",
      "Net(\n",
      "  (conv): rw_GNN(3703, 6, K=2)\n",
      ")\n",
      "\n",
      "Test Accuracy 0.6260\n",
      "Net(\n",
      "  (conv): rw_GNN(3703, 6, K=2)\n",
      ")\n",
      "\n",
      "Test Accuracy 0.6330\n",
      "Net(\n",
      "  (conv): rw_GNN(3703, 6, K=2)\n",
      ")\n",
      "\n",
      "Test Accuracy 0.6040\n",
      "Net(\n",
      "  (conv): rw_GNN(3703, 6, K=2)\n",
      ")\n",
      "\n",
      "Test Accuracy 0.6270\n",
      "Net(\n",
      "  (conv): rw_GNN(3703, 6, K=2)\n",
      ")\n",
      "\n",
      "Test Accuracy 0.6390\n",
      "Net(\n",
      "  (conv): rw_GNN(3703, 6, K=2)\n",
      ")\n",
      "\n",
      "Test Accuracy 0.6220\n",
      "Net(\n",
      "  (conv): rw_GNN(3703, 6, K=2)\n",
      ")\n",
      "\n",
      "Test Accuracy 0.6350\n"
     ]
    }
   ],
   "source": [
    "das = []\n",
    "for _ in range(10):\n",
    "  device = torch.device('cuda' if torch.cuda.is_available() else 'cpu')\n",
    "  model, data = Net().to(device), data.to(device)\n",
    "\n",
    "  #cora_pytorch\n",
    "  #optimizer = torch.optim.Adam(model.parameters(), lr=0.02, weight_decay=5e-4)\n",
    "  #pubmed\n",
    "  #optimizer = torch.optim.Adam(model.parameters(), lr=0.01, weight_decay=5e-3)\n",
    "  #cite_seer,\n",
    "  optimizer = torch.optim.Adam(model.parameters(), lr=0.2, weight_decay=5e-2)\n",
    "  \n",
    "\n",
    "  def train():\n",
    "      model.train()\n",
    "      optimizer.zero_grad()\n",
    "      loss = F.nll_loss(model()[data.train_mask], data.y[data.train_mask])\n",
    "      loss.backward()\n",
    "      optimizer.step()\n",
    "      return loss\n",
    "\n",
    "  def test(mask):\n",
    "      model.eval()\n",
    "      with torch.no_grad():\n",
    "          logits = model()\n",
    "          pred = logits[mask].max(1)[1]\n",
    "          acc = pred.eq(data.y[mask]).sum().item() / mask.sum().item()\n",
    "          \n",
    "      return acc\n",
    "\n",
    "\n",
    "  early_stop = True\n",
    "  if early_stop:\n",
    "      stopper = EarlyStopping(patience=100)\n",
    "  dur = []\n",
    "  print(model)\n",
    "\n",
    "  for epoch in range(1, 101):\n",
    "      model.train()\n",
    "      if epoch >= 3:\n",
    "          t0 = time.time()\n",
    "      loss = train()\n",
    "      \n",
    "      if epoch >= 3:\n",
    "          dur.append(time.time() - t0)\n",
    "      \n",
    "      val_acc = test(data.val_mask)\n",
    "      \n",
    "      if early_stop:\n",
    "          if stopper.step(val_acc, model):   \n",
    "              break\n",
    "      \n",
    "      '''print(\"Epoch {:05d} | Time(s) {:.4f} | Loss {:.4f} | \"\n",
    "                \" ValAcc {:.4f}\".\n",
    "                format(epoch, np.mean(dur), loss, val_acc))'''\n",
    "      \n",
    "  print() # 空出一行\n",
    "      \n",
    "  if early_stop:\n",
    "      model.load_state_dict(torch.load('es_checkpoint.pt'))\n",
    "  test_acc = test(data.test_mask)\n",
    "  das.append(test_acc)\n",
    "  print(\"Test Accuracy {:.4f}\".format(test_acc))"
   ]
  },
  {
   "cell_type": "code",
   "execution_count": 0,
   "metadata": {
    "colab": {
     "base_uri": "https://localhost:8080/",
     "height": 35
    },
    "colab_type": "code",
    "executionInfo": {
     "elapsed": 1042,
     "status": "ok",
     "timestamp": 1584519271286,
     "user": {
      "displayName": "Alexy Robert",
      "photoUrl": "https://lh3.googleusercontent.com/a-/AOh14Ggz_PITpCVZkOGCc-PYV93u9s6v6n1BoAux_QBT=s64",
      "userId": "05809751795814209528"
     },
     "user_tz": -480
    },
    "id": "ig08Glkoi7MI",
    "outputId": "d104afc6-9737-40ba-b47a-81405d56746a"
   },
   "outputs": [
    {
     "data": {
      "text/plain": [
       "[0.621, 0.634, 0.629, 0.626, 0.633, 0.604, 0.627, 0.639, 0.622, 0.635]"
      ]
     },
     "execution_count": 66,
     "metadata": {
      "tags": []
     },
     "output_type": "execute_result"
    }
   ],
   "source": [
    "das"
   ]
  },
  {
   "cell_type": "code",
   "execution_count": 0,
   "metadata": {
    "colab": {
     "base_uri": "https://localhost:8080/",
     "height": 35
    },
    "colab_type": "code",
    "executionInfo": {
     "elapsed": 659,
     "status": "ok",
     "timestamp": 1584519272653,
     "user": {
      "displayName": "Alexy Robert",
      "photoUrl": "https://lh3.googleusercontent.com/a-/AOh14Ggz_PITpCVZkOGCc-PYV93u9s6v6n1BoAux_QBT=s64",
      "userId": "05809751795814209528"
     },
     "user_tz": -480
    },
    "id": "Shpzw7cii7f1",
    "outputId": "e4e5547d-9bdd-4ac9-8b80-2e05918e93fc"
   },
   "outputs": [
    {
     "data": {
      "text/plain": [
       "0.627"
      ]
     },
     "execution_count": 67,
     "metadata": {
      "tags": []
     },
     "output_type": "execute_result"
    }
   ],
   "source": [
    "np.mean(das)"
   ]
  },
  {
   "cell_type": "code",
   "execution_count": 0,
   "metadata": {
    "colab": {},
    "colab_type": "code",
    "id": "gr-WKqvdpByG"
   },
   "outputs": [],
   "source": []
  },
  {
   "cell_type": "code",
   "execution_count": 0,
   "metadata": {
    "colab": {},
    "colab_type": "code",
    "id": "iYcvf9uCpCAr"
   },
   "outputs": [],
   "source": [
    "#pubmed\n",
    "k=2\n",
    "lr=0.05, weight_decay=5e-4 0.7590   0.7490\n",
    "lr=0.5, weight_decay=5e-4  0.7530.  0.7610\n",
    "lr=0.02, weight_decay=5e-3\n",
    "k=5\n",
    "\n"
   ]
  },
  {
   "cell_type": "code",
   "execution_count": 0,
   "metadata": {
    "colab": {},
    "colab_type": "code",
    "id": "EjU17sQzi87B"
   },
   "outputs": [],
   "source": [
    " #citeseer\n",
    " lr=0.2, weight_decay=5e-2  0.6600  0.6340\n",
    "  lr=0.1, weight_decay=5e-2 0.6540 0.6470\n",
    "    lr=0.5, weight_decay=5e-2 0.628 0.57\n",
    "  lr=0.02, weight_decay=5e-2 0.625 0.648\n",
    "lr=0.01, weight_decay=5e-2 0.644. 0.643\n",
    "\n",
    "\n",
    "lr=0.2, weight_decay=5e-1 0.5390 0.517\n",
    "\n",
    "  lr=0.2, weight_decay=5e-3 0.6470  0.63\n",
    " lr=0.2, weight_decay=5e-3  0.6130. 0.6120\n",
    "lr=0.02, weight_decay=5e-4 0.59, 0.57\n",
    "lr=0.2, weight_decay=5e-4 0.6070 0.6230\n",
    "\n"
   ]
  },
  {
   "cell_type": "code",
   "execution_count": 0,
   "metadata": {
    "colab": {},
    "colab_type": "code",
    "id": "OCmNupKehgGp"
   },
   "outputs": [],
   "source": [
    " cora\n",
    "lr=0.05, weight_decay=5e-8, 0.759\n",
    "lr=0.05, weight_decay=5e-10, 0.743\n",
    "lr=0.02, weight_decay=5e-8, 0.7780\n",
    "lr=0.01, weight_decay=5e-8, 0.7350\n",
    "\n",
    "lr=0.03, weight_decay=5e-8 0.7930**\n",
    "\n",
    "lr=0.003, weight_decay=5e-8 0.7350\n",
    "\n",
    "lr=0.02, weight_decay=5e-4, 0.7670\n",
    "lr=0.05, weight_decay=5e-4,0.7260\n",
    "\n",
    "lr=0.05, weight_decay=5e-6, 0.7530\n"
   ]
  },
  {
   "cell_type": "code",
   "execution_count": 0,
   "metadata": {
    "colab": {},
    "colab_type": "code",
    "id": "W-WjXJ63u4Nr"
   },
   "outputs": [],
   "source": []
  },
  {
   "cell_type": "code",
   "execution_count": 0,
   "metadata": {
    "colab": {},
    "colab_type": "code",
    "id": "2xhKiP0bu4Vl"
   },
   "outputs": [],
   "source": []
  },
  {
   "cell_type": "code",
   "execution_count": 0,
   "metadata": {
    "colab": {},
    "colab_type": "code",
    "id": "OBjgxBpMu4cT"
   },
   "outputs": [],
   "source": []
  },
  {
   "cell_type": "code",
   "execution_count": 0,
   "metadata": {
    "colab": {},
    "colab_type": "code",
    "id": "Dh82voCGqYIO"
   },
   "outputs": [],
   "source": []
  },
  {
   "cell_type": "code",
   "execution_count": 0,
   "metadata": {
    "colab": {},
    "colab_type": "code",
    "id": "Sd1bQUd7vUMn"
   },
   "outputs": [],
   "source": []
  },
  {
   "cell_type": "code",
   "execution_count": 0,
   "metadata": {
    "colab": {},
    "colab_type": "code",
    "id": "HM8QRixzty9T"
   },
   "outputs": [],
   "source": [
    "data = pub_med"
   ]
  },
  {
   "cell_type": "code",
   "execution_count": 0,
   "metadata": {
    "colab": {},
    "colab_type": "code",
    "id": "nfkwDBTlt-Ye"
   },
   "outputs": [],
   "source": [
    "num_features = data.num_features\n",
    "num_classes = len(set(data.y.numpy()))"
   ]
  },
  {
   "cell_type": "code",
   "execution_count": 28,
   "metadata": {
    "colab": {
     "base_uri": "https://localhost:8080/",
     "height": 35
    },
    "colab_type": "code",
    "executionInfo": {
     "elapsed": 1514,
     "status": "ok",
     "timestamp": 1584794072135,
     "user": {
      "displayName": "Alexy Robert",
      "photoUrl": "https://lh3.googleusercontent.com/a-/AOh14Ggz_PITpCVZkOGCc-PYV93u9s6v6n1BoAux_QBT=s64",
      "userId": "05809751795814209528"
     },
     "user_tz": -480
    },
    "id": "vy0TjxZjt-oe",
    "outputId": "3ffe09ad-37bc-4e49-e712-067a14e59882"
   },
   "outputs": [
    {
     "data": {
      "text/plain": [
       "Data(edge_index=[2, 88648], test_mask=[19717], train_mask=[19717], val_mask=[19717], x=[19717, 500], y=[19717])"
      ]
     },
     "execution_count": 28,
     "metadata": {
      "tags": []
     },
     "output_type": "execute_result"
    }
   ],
   "source": [
    "data"
   ]
  },
  {
   "cell_type": "markdown",
   "metadata": {
    "colab_type": "text",
    "id": "9493izt0t0z6"
   },
   "source": [
    "## r_GAT"
   ]
  },
  {
   "cell_type": "code",
   "execution_count": 0,
   "metadata": {
    "colab": {},
    "colab_type": "code",
    "id": "UO7CmVBStzBF"
   },
   "outputs": [],
   "source": [
    "import torch\n",
    "from torch.nn import Parameter\n",
    "import torch.nn.functional as F\n",
    "from torch_geometric.nn.conv import MessagePassing\n",
    "from torch_geometric.utils import remove_self_loops, add_self_loops, softmax\n",
    "import numpy as np\n",
    "import torch.nn as nn\n",
    "\n",
    "\n",
    "class R_GATConv(MessagePassing):\n",
    "\n",
    "    def __init__(self, in_channels, out_channels, seed=521,k=2, bias=True, negative_slope=0.2, dropout=0.6):\n",
    "        super(R_GATConv, self).__init__(aggr='add')\n",
    "\n",
    "        self.in_channels = in_channels\n",
    "        self.out_channels = out_channels\n",
    "        self.k = k\n",
    "        self.negative_slope = negative_slope\n",
    "        self.dropout = dropout\n",
    "        self.bias = bias\n",
    "\n",
    "        #self.weight = Parameter(\n",
    "            ##torch.Tensor(in_channels, out_channels))\n",
    "        \n",
    "        \n",
    "        self.lin = nn.Linear(in_channels, out_channels, bias=bias)\n",
    "        np.random.seed(seed)\n",
    "        self.att = torch.tensor(np.random.random((1, 2*out_channels)))\n",
    "        \n",
    "        self.reset_parameters()\n",
    "\n",
    "    '''def reset_parameters(self):\n",
    "        gain = nn.init.calculate_gain('relu')\n",
    "        nn.init.xavier_normal_(self.lin.weight, gain=gain)\n",
    "        nn.init.xavier_normal_(self.att, gain=gain)\n",
    "        if self.bias:\n",
    "            nn.init.zeros_(self.lin.bias)'''\n",
    "    def reset_parameters(self):\n",
    "        self.lin.reset_parameters()\n",
    "    \n",
    "    def My_norms(self, x, edge_index, num_nodes):\n",
    "        edge_index_j = edge_index[0]\n",
    "        edge_index_i = edge_index[1]\n",
    "        x_j = x[edge_index_j]\n",
    "        x_i = x[edge_index_i]\n",
    "        #print('x_i', x_i.shape)\n",
    "        ''' alpha0 = (torch.cat([x_i, x_j], dim=-1) * self.att).sum(dim=-1)\n",
    "        alpha1 = (torch.cat([x_j, x_i], dim=-1) * self.att).sum(dim=-1)\n",
    "        \n",
    "        alpha = (alpha0 + alpha1)/2.0'''\n",
    "        \n",
    "        alpha = (torch.cat([x_i, x_j], dim=-1) * self.att).sum(dim=-1)\n",
    "        #print('al', alpha.shape)\n",
    "        self_weight = edge_index_i== edge_index_j\n",
    "        alpha[self_weight] += 1.0\n",
    "        alpha = F.leaky_relu(alpha, self.negative_slope)\n",
    "        alpha = softmax(alpha, edge_index_i, num_nodes)\n",
    "        \n",
    "        # Sample attention coefficients stochastically.\n",
    "        alpha = F.dropout(alpha, p=self.dropout, training=self.training)\n",
    "        \n",
    "        return alpha\n",
    "    \n",
    "    \n",
    "    def forward(self, x, edge_index, size=None):\n",
    "        \"\"\"\"\"\"\n",
    "        if size is None and torch.is_tensor(x):\n",
    "            edge_index, _ = remove_self_loops(edge_index)\n",
    "            edge_index, _ = add_self_loops(edge_index, num_nodes=x.size(0))\n",
    "        \n",
    "        x = self.lin(x)\n",
    "        \n",
    "        norm = self.My_norms(x, edge_index, x.size(0))\n",
    "            \n",
    "        for _ in range(self.k):\n",
    "            x =  self.propagate(edge_index, size=size, x=x, norm=norm)\n",
    "            \n",
    "        return x\n",
    "\n",
    "\n",
    "    def message(self, x_j, norm):\n",
    "        return norm.view(-1, 1) * x_j\n",
    "    \n",
    "    def __repr__(self):\n",
    "        return '{}({}, {}, heads={})'.format(self.__class__.__name__,\n",
    "                                             self.in_channels,\n",
    "                                             self.out_channels, self.k)"
   ]
  },
  {
   "cell_type": "code",
   "execution_count": 0,
   "metadata": {
    "colab": {},
    "colab_type": "code",
    "id": "Ql8x6228tzEw"
   },
   "outputs": [],
   "source": []
  },
  {
   "cell_type": "code",
   "execution_count": 0,
   "metadata": {
    "colab": {},
    "colab_type": "code",
    "id": "8msuMFlgtzIC"
   },
   "outputs": [],
   "source": [
    "class Net(torch.nn.Module):\n",
    "    def __init__(self):\n",
    "        super(Net, self).__init__()\n",
    "        self.conv = R_GATConv(\n",
    "            num_features, num_classes,seed=1314,k=3)\n",
    "\n",
    "    def forward(self):\n",
    "        x, edge_index = data.x, data.edge_index\n",
    "        x = self.conv(x, edge_index)\n",
    "        return F.log_softmax(x, dim=1)"
   ]
  },
  {
   "cell_type": "code",
   "execution_count": 0,
   "metadata": {
    "colab": {},
    "colab_type": "code",
    "id": "f-a65SdztzfY"
   },
   "outputs": [],
   "source": []
  },
  {
   "cell_type": "code",
   "execution_count": 31,
   "metadata": {
    "colab": {
     "base_uri": "https://localhost:8080/",
     "height": 897
    },
    "colab_type": "code",
    "executionInfo": {
     "elapsed": 152470,
     "status": "ok",
     "timestamp": 1584794237279,
     "user": {
      "displayName": "Alexy Robert",
      "photoUrl": "https://lh3.googleusercontent.com/a-/AOh14Ggz_PITpCVZkOGCc-PYV93u9s6v6n1BoAux_QBT=s64",
      "userId": "05809751795814209528"
     },
     "user_tz": -480
    },
    "id": "0r22v-yztz8U",
    "outputId": "12daf644-afcf-4c03-d28c-db91ed640a5a"
   },
   "outputs": [
    {
     "name": "stdout",
     "output_type": "stream",
     "text": [
      "Net(\n",
      "  (conv): R_GATConv(500, 3, heads=3)\n",
      ")\n",
      "\n",
      "Test Accuracy 0.7630\n",
      "Net(\n",
      "  (conv): R_GATConv(500, 3, heads=3)\n",
      ")\n",
      "\n",
      "Test Accuracy 0.7880\n",
      "Net(\n",
      "  (conv): R_GATConv(500, 3, heads=3)\n",
      ")\n",
      "\n",
      "Test Accuracy 0.7750\n",
      "Net(\n",
      "  (conv): R_GATConv(500, 3, heads=3)\n",
      ")\n",
      "\n",
      "Test Accuracy 0.7810\n",
      "Net(\n",
      "  (conv): R_GATConv(500, 3, heads=3)\n",
      ")\n",
      "\n",
      "Test Accuracy 0.7770\n",
      "Net(\n",
      "  (conv): R_GATConv(500, 3, heads=3)\n",
      ")\n",
      "\n",
      "Test Accuracy 0.7750\n",
      "Net(\n",
      "  (conv): R_GATConv(500, 3, heads=3)\n",
      ")\n",
      "\n",
      "Test Accuracy 0.7730\n",
      "Net(\n",
      "  (conv): R_GATConv(500, 3, heads=3)\n",
      ")\n",
      "\n",
      "Test Accuracy 0.7740\n",
      "Net(\n",
      "  (conv): R_GATConv(500, 3, heads=3)\n",
      ")\n",
      "\n",
      "Test Accuracy 0.7650\n",
      "Net(\n",
      "  (conv): R_GATConv(500, 3, heads=3)\n",
      ")\n",
      "\n",
      "Test Accuracy 0.7780\n"
     ]
    }
   ],
   "source": [
    "das = []\n",
    "for _ in range(10):\n",
    "  device = torch.device('cuda' if torch.cuda.is_available() else 'cpu')\n",
    "  model, data = Net().to(device), data.to(device)\n",
    "\n",
    "  #cora_pytorch\n",
    "  #optimizer = torch.optim.Adam(model.parameters(), lr=0.02, weight_decay=5e-4)\n",
    "  #pubmed\n",
    "  optimizer = torch.optim.Adam(model.parameters(), lr=0.01, weight_decay=5e-3)\n",
    "  #cite_seer,\n",
    "  #optimizer = torch.optim.Adam(model.parameters(), lr=0.2, weight_decay=5e-2)\n",
    "  \n",
    "\n",
    "  def train():\n",
    "      model.train()\n",
    "      optimizer.zero_grad()\n",
    "      loss = F.nll_loss(model()[data.train_mask], data.y[data.train_mask])\n",
    "      loss.backward()\n",
    "      optimizer.step()\n",
    "      return loss\n",
    "\n",
    "  def test(mask):\n",
    "      model.eval()\n",
    "      with torch.no_grad():\n",
    "          logits = model()\n",
    "          pred = logits[mask].max(1)[1]\n",
    "          acc = pred.eq(data.y[mask]).sum().item() / mask.sum().item()\n",
    "          \n",
    "      return acc\n",
    "\n",
    "\n",
    "  early_stop = True\n",
    "  if early_stop:\n",
    "      stopper = EarlyStopping(patience=100)\n",
    "  dur = []\n",
    "  print(model)\n",
    "\n",
    "  for epoch in range(1, 101):\n",
    "      model.train()\n",
    "      if epoch >= 3:\n",
    "          t0 = time.time()\n",
    "      loss = train()\n",
    "      \n",
    "      if epoch >= 3:\n",
    "          dur.append(time.time() - t0)\n",
    "      \n",
    "      val_acc = test(data.val_mask)\n",
    "      \n",
    "      if early_stop:\n",
    "          if stopper.step(val_acc, model):   \n",
    "              break\n",
    "      \n",
    "      '''print(\"Epoch {:05d} | Time(s) {:.4f} | Loss {:.4f} | \"\n",
    "                \" ValAcc {:.4f}\".\n",
    "                format(epoch, np.mean(dur), loss, val_acc))'''\n",
    "      \n",
    "  print() \n",
    "      \n",
    "  if early_stop:\n",
    "      model.load_state_dict(torch.load('es_checkpoint.pt'))\n",
    "  test_acc = test(data.test_mask)\n",
    "  das.append(test_acc)\n",
    "  print(\"Test Accuracy {:.4f}\".format(test_acc))"
   ]
  },
  {
   "cell_type": "code",
   "execution_count": 32,
   "metadata": {
    "colab": {
     "base_uri": "https://localhost:8080/",
     "height": 35
    },
    "colab_type": "code",
    "executionInfo": {
     "elapsed": 145928,
     "status": "ok",
     "timestamp": 1584794237280,
     "user": {
      "displayName": "Alexy Robert",
      "photoUrl": "https://lh3.googleusercontent.com/a-/AOh14Ggz_PITpCVZkOGCc-PYV93u9s6v6n1BoAux_QBT=s64",
      "userId": "05809751795814209528"
     },
     "user_tz": -480
    },
    "id": "zK2_XBUWt0QI",
    "outputId": "3b54ea21-99e6-4ae7-ea87-9fab29631553"
   },
   "outputs": [
    {
     "data": {
      "text/plain": [
       "[0.763, 0.788, 0.775, 0.781, 0.777, 0.775, 0.773, 0.774, 0.765, 0.778]"
      ]
     },
     "execution_count": 32,
     "metadata": {
      "tags": []
     },
     "output_type": "execute_result"
    }
   ],
   "source": [
    "das"
   ]
  },
  {
   "cell_type": "code",
   "execution_count": 33,
   "metadata": {
    "colab": {
     "base_uri": "https://localhost:8080/",
     "height": 35
    },
    "colab_type": "code",
    "executionInfo": {
     "elapsed": 145422,
     "status": "ok",
     "timestamp": 1584794237281,
     "user": {
      "displayName": "Alexy Robert",
      "photoUrl": "https://lh3.googleusercontent.com/a-/AOh14Ggz_PITpCVZkOGCc-PYV93u9s6v6n1BoAux_QBT=s64",
      "userId": "05809751795814209528"
     },
     "user_tz": -480
    },
    "id": "fwGLieKGwjH7",
    "outputId": "89b4a3bf-f414-4473-e540-4ab6226f2ed0"
   },
   "outputs": [
    {
     "data": {
      "text/plain": [
       "0.7749"
      ]
     },
     "execution_count": 33,
     "metadata": {
      "tags": []
     },
     "output_type": "execute_result"
    }
   ],
   "source": [
    "np.mean(das)"
   ]
  },
  {
   "cell_type": "code",
   "execution_count": 34,
   "metadata": {
    "colab": {
     "base_uri": "https://localhost:8080/",
     "height": 35
    },
    "colab_type": "code",
    "executionInfo": {
     "elapsed": 1255,
     "status": "ok",
     "timestamp": 1584794238540,
     "user": {
      "displayName": "Alexy Robert",
      "photoUrl": "https://lh3.googleusercontent.com/a-/AOh14Ggz_PITpCVZkOGCc-PYV93u9s6v6n1BoAux_QBT=s64",
      "userId": "05809751795814209528"
     },
     "user_tz": -480
    },
    "id": "VVTB3QG2EffS",
    "outputId": "449766f0-0db8-4c35-e08d-90a0cff5187a"
   },
   "outputs": [
    {
     "name": "stdout",
     "output_type": "stream",
     "text": [
      "done!!\n"
     ]
    }
   ],
   "source": [
    "print('done!!')"
   ]
  },
  {
   "cell_type": "code",
   "execution_count": 0,
   "metadata": {
    "colab": {},
    "colab_type": "code",
    "id": "eAHcR3TCFuPA"
   },
   "outputs": [],
   "source": []
  },
  {
   "cell_type": "code",
   "execution_count": 0,
   "metadata": {
    "colab": {},
    "colab_type": "code",
    "id": "1QQumS-Vt0F7"
   },
   "outputs": [],
   "source": [
    "lr=0.02, weight_decay=5e-4 k=3 **\n",
    "0.8080. 0.8070\n",
    "  lr=0.01, weight_decay=5e-4 k=3\n",
    "0.8160. 0.8030\n",
    "\n",
    "lr=0.05, weight_decay=5e-4 k=3**\n",
    "\n",
    "\n",
    "\n",
    "lr=0.02, weight_decay=5e-4 k=5\n",
    "0.7940. 0.8000\n",
    "lr=0.02, weight_decay=5e-4 k=2\n",
    "Test Accuracy 0.7960\n",
    "0.8050\n",
    "\n",
    "lr=0.02, weight_decay=5e-2\n",
    "0.7960.  0.8050\n",
    "\n",
    "\n"
   ]
  },
  {
   "cell_type": "code",
   "execution_count": 0,
   "metadata": {
    "colab": {},
    "colab_type": "code",
    "id": "6Y48O4vZtzRZ"
   },
   "outputs": [],
   "source": []
  },
  {
   "cell_type": "code",
   "execution_count": 0,
   "metadata": {
    "colab": {},
    "colab_type": "code",
    "id": "O-BVI7xrtzOU"
   },
   "outputs": [],
   "source": []
  },
  {
   "cell_type": "code",
   "execution_count": 0,
   "metadata": {
    "colab": {},
    "colab_type": "code",
    "id": "FH4yyQQktzMP"
   },
   "outputs": [],
   "source": []
  }
 ],
 "metadata": {
  "colab": {
   "authorship_tag": "ABX9TyPTlDp4qrfhwwOFHf138cdk",
   "collapsed_sections": [],
   "machine_shape": "hm",
   "mount_file_id": "1DSB5MoHQXT1BXQxPUIuutrMHf2w2B0X6",
   "name": "RandomWeight.ipynb",
   "provenance": []
  },
  "kernelspec": {
   "display_name": "Python 3",
   "language": "python",
   "name": "python3"
  },
  "language_info": {
   "codemirror_mode": {
    "name": "ipython",
    "version": 3
   },
   "file_extension": ".py",
   "mimetype": "text/x-python",
   "name": "python",
   "nbconvert_exporter": "python",
   "pygments_lexer": "ipython3",
   "version": "3.7.4"
  }
 },
 "nbformat": 4,
 "nbformat_minor": 1
}
